{
 "cells": [
  {
   "cell_type": "code",
   "execution_count": 19,
   "metadata": {},
   "outputs": [
    {
     "name": "stdout",
     "output_type": "stream",
     "text": [
      "The autoreload extension is already loaded. To reload it, use:\n",
      "  %reload_ext autoreload\n"
     ]
    }
   ],
   "source": [
    "import pandas as pd\n",
    "%load_ext autoreload\n",
    "%autoreload 2\n",
    "\n",
    "from my_functions import BusStopFile"
   ]
  },
  {
   "attachments": {},
   "cell_type": "markdown",
   "metadata": {},
   "source": [
    "# 1. Getting data"
   ]
  },
  {
   "cell_type": "markdown",
   "metadata": {},
   "source": [
    "## Bus Stop Data"
   ]
  },
  {
   "cell_type": "code",
   "execution_count": 58,
   "metadata": {},
   "outputs": [
    {
     "name": "stdout",
     "output_type": "stream",
     "text": [
      "The target url is http://datamall2.mytransport.sg/ltaodataservice/BusStops?$skip=0\n",
      "The target url is http://datamall2.mytransport.sg/ltaodataservice/BusStops?$skip=500\n",
      "The target url is http://datamall2.mytransport.sg/ltaodataservice/BusStops?$skip=1000\n",
      "The target url is http://datamall2.mytransport.sg/ltaodataservice/BusStops?$skip=1500\n",
      "The target url is http://datamall2.mytransport.sg/ltaodataservice/BusStops?$skip=2000\n",
      "The target url is http://datamall2.mytransport.sg/ltaodataservice/BusStops?$skip=2500\n",
      "The target url is http://datamall2.mytransport.sg/ltaodataservice/BusStops?$skip=3000\n",
      "The target url is http://datamall2.mytransport.sg/ltaodataservice/BusStops?$skip=3500\n",
      "The target url is http://datamall2.mytransport.sg/ltaodataservice/BusStops?$skip=4000\n",
      "The target url is http://datamall2.mytransport.sg/ltaodataservice/BusStops?$skip=4500\n",
      "The target url is http://datamall2.mytransport.sg/ltaodataservice/BusStops?$skip=5000\n"
     ]
    }
   ],
   "source": [
    "# create a dataframe to store the bus stop data\n",
    "stop_df = pd.DataFrame(columns=['BusStopCode', 'RoadName', \\\n",
    "                                    'Description', 'Latitude', \\\n",
    "                                    'Longitude'])\n",
    "stop_df = BusStopFile(stop_df, 'BusStops').get_stop_data(0 , 5500)"
   ]
  },
  {
   "cell_type": "code",
   "execution_count": 59,
   "metadata": {},
   "outputs": [
    {
     "name": "stdout",
     "output_type": "stream",
     "text": [
      "There were 5083 bus stops extracted from the LTA API.\n",
      "  BusStopCode       RoadName          Description  Latitude   Longitude\n",
      "0       01012    Victoria St  Hotel Grand Pacific  1.296848  103.852536\n",
      "1       01013    Victoria St      St. Joseph's Ch  1.297710  103.853225\n",
      "2       01019    Victoria St      Bras Basah Cplx  1.296990  103.853022\n",
      "3       01029  Nth Bridge Rd         Opp Natl Lib  1.296673  103.854414\n",
      "4       01039  Nth Bridge Rd           Bugis Cube  1.298208  103.855491\n"
     ]
    }
   ],
   "source": [
    "print(f'There were {len(stop_df)} bus stops extracted from the LTA API.')\n",
    "print(stop_df.head())"
   ]
  },
  {
   "cell_type": "code",
   "execution_count": 60,
   "metadata": {},
   "outputs": [],
   "source": [
    "# export the dataframe to a csv file\n",
    "stop_df.to_csv('bus_stops.csv', index=False)"
   ]
  },
  {
   "cell_type": "markdown",
   "metadata": {},
   "source": [
    "## Foot Traffic Data"
   ]
  },
  {
   "cell_type": "code",
   "execution_count": 13,
   "metadata": {},
   "outputs": [],
   "source": [
    "# convert PT_CODE to string\n",
    "df['PT_CODE'] = df['PT_CODE'].astype(str)\n",
    "\n",
    "# if length of PT_CODE is 4, add a 0 in front\n",
    "df['PT_CODE'] = df['PT_CODE'].apply(lambda x: '0' + x if len(x) == 4 else x)"
   ]
  },
  {
   "cell_type": "code",
   "execution_count": 16,
   "metadata": {},
   "outputs": [],
   "source": [
    "# export df to csv\n",
    "df.to_csv('transport_node_bus_202301.csv', index=False)"
   ]
  },
  {
   "cell_type": "code",
   "execution_count": 23,
   "metadata": {},
   "outputs": [
    {
     "data": {
      "text/plain": [
       "196564"
      ]
     },
     "execution_count": 23,
     "metadata": {},
     "output_type": "execute_result"
    }
   ],
   "source": [
    "len(df)"
   ]
  },
  {
   "cell_type": "code",
   "execution_count": 15,
   "metadata": {},
   "outputs": [],
   "source": [
    "# import bus stop data\n",
    "df_data = pd.read_csv('bus_stop_data.csv')"
   ]
  }
 ],
 "metadata": {
  "kernelspec": {
   "display_name": "Python 3",
   "language": "python",
   "name": "python3"
  },
  "language_info": {
   "codemirror_mode": {
    "name": "ipython",
    "version": 3
   },
   "file_extension": ".py",
   "mimetype": "text/x-python",
   "name": "python",
   "nbconvert_exporter": "python",
   "pygments_lexer": "ipython3",
   "version": "3.10.8"
  },
  "orig_nbformat": 4,
  "vscode": {
   "interpreter": {
    "hash": "aee8b7b246df8f9039afb4144a1f6fd8d2ca17a180786b69acc140d282b71a49"
   }
  }
 },
 "nbformat": 4,
 "nbformat_minor": 2
}
