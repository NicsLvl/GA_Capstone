{
 "cells": [
  {
   "cell_type": "code",
   "execution_count": 20,
   "metadata": {},
   "outputs": [
    {
     "name": "stdout",
     "output_type": "stream",
     "text": [
      "The autoreload extension is already loaded. To reload it, use:\n",
      "  %reload_ext autoreload\n"
     ]
    }
   ],
   "source": [
    "import pandas as pd\n",
    "import time\n",
    "%load_ext autoreload\n",
    "%autoreload 2\n",
    "\n",
    "from my_functions import BusStopFile"
   ]
  },
  {
   "attachments": {},
   "cell_type": "markdown",
   "metadata": {},
   "source": [
    "# 1. Getting data"
   ]
  },
  {
   "attachments": {},
   "cell_type": "markdown",
   "metadata": {},
   "source": [
    "## LTA API Documentation\n",
    "https://datamall.lta.gov.sg/content/dam/datamall/datasets/LTA_DataMall_API_User_Guide.pdf"
   ]
  },
  {
   "cell_type": "markdown",
   "metadata": {},
   "source": [
    "## Bus Stop Data"
   ]
  },
  {
   "cell_type": "code",
   "execution_count": 4,
   "metadata": {},
   "outputs": [
    {
     "name": "stdout",
     "output_type": "stream",
     "text": [
      "The target url is http://datamall2.mytransport.sg/ltaodataservice/BusStops?$skip=0\n",
      "The target url is http://datamall2.mytransport.sg/ltaodataservice/BusStops?$skip=500\n",
      "The target url is http://datamall2.mytransport.sg/ltaodataservice/BusStops?$skip=1000\n",
      "The target url is http://datamall2.mytransport.sg/ltaodataservice/BusStops?$skip=1500\n",
      "The target url is http://datamall2.mytransport.sg/ltaodataservice/BusStops?$skip=2000\n",
      "The target url is http://datamall2.mytransport.sg/ltaodataservice/BusStops?$skip=2500\n",
      "The target url is http://datamall2.mytransport.sg/ltaodataservice/BusStops?$skip=3000\n",
      "The target url is http://datamall2.mytransport.sg/ltaodataservice/BusStops?$skip=3500\n",
      "The target url is http://datamall2.mytransport.sg/ltaodataservice/BusStops?$skip=4000\n",
      "The target url is http://datamall2.mytransport.sg/ltaodataservice/BusStops?$skip=4500\n",
      "The target url is http://datamall2.mytransport.sg/ltaodataservice/BusStops?$skip=5000\n"
     ]
    }
   ],
   "source": [
    "# Create a dataframe to store the bus stop data\n",
    "stop_df = pd.DataFrame(columns=['BusStopCode', 'RoadName', \\\n",
    "                                    'Description', 'Latitude', \\\n",
    "                                    'Longitude'])\n",
    "\n",
    "# Extract the bus stop data into a dataframe\n",
    "stop_df = BusStopFile('BusStops',stop_df).get_stop_data(0 , 5500)"
   ]
  },
  {
   "cell_type": "code",
   "execution_count": 5,
   "metadata": {},
   "outputs": [
    {
     "name": "stdout",
     "output_type": "stream",
     "text": [
      "There were 5083 bus stops extracted from the LTA API.\n",
      "  BusStopCode       RoadName          Description  Latitude   Longitude\n",
      "0       01012    Victoria St  Hotel Grand Pacific  1.296848  103.852536\n",
      "1       01013    Victoria St      St. Joseph's Ch  1.297710  103.853225\n",
      "2       01019    Victoria St      Bras Basah Cplx  1.296990  103.853022\n",
      "3       01029  Nth Bridge Rd         Opp Natl Lib  1.296673  103.854414\n",
      "4       01039  Nth Bridge Rd           Bugis Cube  1.298208  103.855491\n"
     ]
    }
   ],
   "source": [
    "print(f'There were {len(stop_df)} bus stops extracted from the LTA API.')\n",
    "print(stop_df.head())"
   ]
  },
  {
   "cell_type": "code",
   "execution_count": 60,
   "metadata": {},
   "outputs": [],
   "source": [
    "# export the dataframe to a csv file\n",
    "stop_df.to_csv('bus_stops.csv', index=False)"
   ]
  },
  {
   "cell_type": "markdown",
   "metadata": {},
   "source": [
    "## Foot Traffic Data"
   ]
  },
  {
   "cell_type": "code",
   "execution_count": null,
   "metadata": {},
   "outputs": [],
   "source": [
    "# Extract foot traffic data from the LTA API for the past 3 months\n",
    "traffic_link = BusStopFile('Bus').get_stop_traffic('202211')\n",
    "time.sleep(10)\n",
    "traffic_link = BusStopFile('Bus').get_stop_traffic('202212')\n",
    "time.sleep(10)\n",
    "traffic_link = BusStopFile('Bus').get_stop_traffic('202301')"
   ]
  },
  {
   "cell_type": "code",
   "execution_count": 25,
   "metadata": {},
   "outputs": [],
   "source": [
    "# import all the csvs and concat them\n",
    "df = pd.read_csv('transport_node_bus_202211.csv')\n",
    "df1 = pd.read_csv('transport_node_bus_202212.csv')\n",
    "df2 = pd.read_csv('transport_node_bus_202301.csv')\n",
    "\n",
    "traffic_df = pd.concat([df,df1,df2], ignore_index=True)"
   ]
  },
  {
   "cell_type": "code",
   "execution_count": 26,
   "metadata": {},
   "outputs": [
    {
     "data": {
      "text/html": [
       "<div>\n",
       "<style scoped>\n",
       "    .dataframe tbody tr th:only-of-type {\n",
       "        vertical-align: middle;\n",
       "    }\n",
       "\n",
       "    .dataframe tbody tr th {\n",
       "        vertical-align: top;\n",
       "    }\n",
       "\n",
       "    .dataframe thead th {\n",
       "        text-align: right;\n",
       "    }\n",
       "</style>\n",
       "<table border=\"1\" class=\"dataframe\">\n",
       "  <thead>\n",
       "    <tr style=\"text-align: right;\">\n",
       "      <th></th>\n",
       "      <th>YEAR_MONTH</th>\n",
       "      <th>DAY_TYPE</th>\n",
       "      <th>TIME_PER_HOUR</th>\n",
       "      <th>PT_TYPE</th>\n",
       "      <th>PT_CODE</th>\n",
       "      <th>TOTAL_TAP_IN_VOLUME</th>\n",
       "      <th>TOTAL_TAP_OUT_VOLUME</th>\n",
       "    </tr>\n",
       "  </thead>\n",
       "  <tbody>\n",
       "    <tr>\n",
       "      <th>0</th>\n",
       "      <td>2022-11</td>\n",
       "      <td>WEEKDAY</td>\n",
       "      <td>17</td>\n",
       "      <td>BUS</td>\n",
       "      <td>45379</td>\n",
       "      <td>375</td>\n",
       "      <td>368</td>\n",
       "    </tr>\n",
       "    <tr>\n",
       "      <th>1</th>\n",
       "      <td>2022-11</td>\n",
       "      <td>WEEKENDS/HOLIDAY</td>\n",
       "      <td>17</td>\n",
       "      <td>BUS</td>\n",
       "      <td>45379</td>\n",
       "      <td>142</td>\n",
       "      <td>102</td>\n",
       "    </tr>\n",
       "    <tr>\n",
       "      <th>2</th>\n",
       "      <td>2022-11</td>\n",
       "      <td>WEEKENDS/HOLIDAY</td>\n",
       "      <td>13</td>\n",
       "      <td>BUS</td>\n",
       "      <td>80051</td>\n",
       "      <td>965</td>\n",
       "      <td>902</td>\n",
       "    </tr>\n",
       "    <tr>\n",
       "      <th>3</th>\n",
       "      <td>2022-11</td>\n",
       "      <td>WEEKDAY</td>\n",
       "      <td>13</td>\n",
       "      <td>BUS</td>\n",
       "      <td>80051</td>\n",
       "      <td>2329</td>\n",
       "      <td>2319</td>\n",
       "    </tr>\n",
       "    <tr>\n",
       "      <th>4</th>\n",
       "      <td>2022-11</td>\n",
       "      <td>WEEKENDS/HOLIDAY</td>\n",
       "      <td>8</td>\n",
       "      <td>BUS</td>\n",
       "      <td>3511</td>\n",
       "      <td>50</td>\n",
       "      <td>133</td>\n",
       "    </tr>\n",
       "  </tbody>\n",
       "</table>\n",
       "</div>"
      ],
      "text/plain": [
       "  YEAR_MONTH          DAY_TYPE  TIME_PER_HOUR PT_TYPE  PT_CODE  \\\n",
       "0    2022-11           WEEKDAY             17     BUS    45379   \n",
       "1    2022-11  WEEKENDS/HOLIDAY             17     BUS    45379   \n",
       "2    2022-11  WEEKENDS/HOLIDAY             13     BUS    80051   \n",
       "3    2022-11           WEEKDAY             13     BUS    80051   \n",
       "4    2022-11  WEEKENDS/HOLIDAY              8     BUS     3511   \n",
       "\n",
       "   TOTAL_TAP_IN_VOLUME  TOTAL_TAP_OUT_VOLUME  \n",
       "0                  375                   368  \n",
       "1                  142                   102  \n",
       "2                  965                   902  \n",
       "3                 2329                  2319  \n",
       "4                   50                   133  "
      ]
     },
     "execution_count": 26,
     "metadata": {},
     "output_type": "execute_result"
    }
   ],
   "source": [
    "traffic_df.head()"
   ]
  },
  {
   "cell_type": "code",
   "execution_count": 28,
   "metadata": {},
   "outputs": [
    {
     "data": {
      "text/plain": [
       "590332"
      ]
     },
     "execution_count": 28,
     "metadata": {},
     "output_type": "execute_result"
    }
   ],
   "source": [
    "len(traffic_df)"
   ]
  },
  {
   "cell_type": "code",
   "execution_count": 39,
   "metadata": {},
   "outputs": [],
   "source": [
    "# convert PT_CODE to string\n",
    "traffic_df['PT_CODE'] = traffic_df['PT_CODE'].astype(str)\n",
    "\n",
    "# for each value in PT_code find out the length\n",
    "traffic_df['PT_CODE_LEN'] = traffic_df['PT_CODE'].apply(lambda x: len(x))\n",
    "print(traffic_df['PT_CODE_LEN'].value_counts())\n",
    "\n",
    "# if length of PT_CODE is 4, add a 0 in front\n",
    "traffic_df['PT_CODE'] = traffic_df['PT_CODE'].apply(lambda x: '0' + x if len(x) == 4 else x)\n",
    "\n",
    "# drop the PT_CODE_LEN column\n",
    "traffic_df.drop('PT_CODE_LEN', axis=1, inplace=True)"
   ]
  },
  {
   "cell_type": "code",
   "execution_count": 40,
   "metadata": {},
   "outputs": [],
   "source": [
    "# export traffic_df as csv\n",
    "traffic_df.to_csv('traffic_df.csv', index=False)"
   ]
  },
  {
   "cell_type": "markdown",
   "metadata": {},
   "source": [
    "# 2. Importing Data"
   ]
  },
  {
   "cell_type": "code",
   "execution_count": null,
   "metadata": {},
   "outputs": [],
   "source": [
    "# import csvs\n",
    "traffic_df = pd.read_csv('traffic_df.csv')\n",
    "stop_df = pd.read_csv('bus_stops.csv')\n",
    "mcd_df = pd.read_csv('mcdonalds_data.csv')"
   ]
  }
 ],
 "metadata": {
  "kernelspec": {
   "display_name": "Python 3",
   "language": "python",
   "name": "python3"
  },
  "language_info": {
   "codemirror_mode": {
    "name": "ipython",
    "version": 3
   },
   "file_extension": ".py",
   "mimetype": "text/x-python",
   "name": "python",
   "nbconvert_exporter": "python",
   "pygments_lexer": "ipython3",
   "version": "3.10.8"
  },
  "orig_nbformat": 4,
  "vscode": {
   "interpreter": {
    "hash": "aee8b7b246df8f9039afb4144a1f6fd8d2ca17a180786b69acc140d282b71a49"
   }
  }
 },
 "nbformat": 4,
 "nbformat_minor": 2
}
