{
 "cells": [
  {
   "cell_type": "code",
   "execution_count": 7,
   "metadata": {},
   "outputs": [],
   "source": [
    "import json\n",
    "import pandas as pd"
   ]
  },
  {
   "cell_type": "code",
   "execution_count": 5,
   "metadata": {},
   "outputs": [],
   "source": [
    "# extract all latitudes and longitudes from the json file\n",
    "with open('database.json') as f:\n",
    "    data = json.load(f)\n",
    "    latitudes = [float(x['LATITUDE']) for x in data]\n",
    "    longitudes = [float(x['LONGITUDE']) for x in data]"
   ]
  },
  {
   "cell_type": "code",
   "execution_count": 9,
   "metadata": {},
   "outputs": [],
   "source": [
    "# put into a dataframe and save as csv\n",
    "df = pd.DataFrame({'latitude': latitudes, 'longitude': longitudes})\n",
    "df.to_csv('postal_codes.csv', index=False)"
   ]
  },
  {
   "cell_type": "code",
   "execution_count": 10,
   "metadata": {},
   "outputs": [
    {
     "data": {
      "text/html": [
       "<div>\n",
       "<style scoped>\n",
       "    .dataframe tbody tr th:only-of-type {\n",
       "        vertical-align: middle;\n",
       "    }\n",
       "\n",
       "    .dataframe tbody tr th {\n",
       "        vertical-align: top;\n",
       "    }\n",
       "\n",
       "    .dataframe thead th {\n",
       "        text-align: right;\n",
       "    }\n",
       "</style>\n",
       "<table border=\"1\" class=\"dataframe\">\n",
       "  <thead>\n",
       "    <tr style=\"text-align: right;\">\n",
       "      <th></th>\n",
       "      <th>latitude</th>\n",
       "      <th>longitude</th>\n",
       "    </tr>\n",
       "  </thead>\n",
       "  <tbody>\n",
       "    <tr>\n",
       "      <th>0</th>\n",
       "      <td>1.275805</td>\n",
       "      <td>103.849615</td>\n",
       "    </tr>\n",
       "    <tr>\n",
       "      <th>1</th>\n",
       "      <td>1.274950</td>\n",
       "      <td>103.851665</td>\n",
       "    </tr>\n",
       "    <tr>\n",
       "      <th>2</th>\n",
       "      <td>1.279587</td>\n",
       "      <td>103.868956</td>\n",
       "    </tr>\n",
       "    <tr>\n",
       "      <th>3</th>\n",
       "      <td>1.279744</td>\n",
       "      <td>103.851591</td>\n",
       "    </tr>\n",
       "    <tr>\n",
       "      <th>4</th>\n",
       "      <td>1.276409</td>\n",
       "      <td>103.854595</td>\n",
       "    </tr>\n",
       "  </tbody>\n",
       "</table>\n",
       "</div>"
      ],
      "text/plain": [
       "   latitude   longitude\n",
       "0  1.275805  103.849615\n",
       "1  1.274950  103.851665\n",
       "2  1.279587  103.868956\n",
       "3  1.279744  103.851591\n",
       "4  1.276409  103.854595"
      ]
     },
     "execution_count": 10,
     "metadata": {},
     "output_type": "execute_result"
    }
   ],
   "source": [
    "df.head()"
   ]
  },
  {
   "cell_type": "code",
   "execution_count": 12,
   "metadata": {},
   "outputs": [],
   "source": [
    "# to do a blind test on every single postal code in existence we need these features:\n",
    "features = [\n",
    " # combine these into in traffic at 1am on weekdays > 1km\n",
    " 'WEEKDAY_1_in_1',\n",
    " 'WEEKDAY_1_in_2',\n",
    " \n",
    " # combine these into in traffic in the morning > 1km\n",
    " 'WEEKDAY_5_in_2',\n",
    " 'WEEKDAY_6_in_1',\n",
    " 'WEEKDAY_6_in_2',\n",
    " 'WEEKDAY_7_in_1',\n",
    " 'WEEKDAY_7_in_2',\n",
    "\n",
    " #\n",
    " 'WEEKDAY_0_out_0.5',\n",
    " 'WEEKDAY_0_out_1',\n",
    " 'WEEKDAY_0_out_2',\n",
    " 'WEEKDAY_1_out_2',\n",
    " 'WEEKDAY_4_out_2',\n",
    " 'WEEKDAY_7_out_2',\n",
    " 'WEEKDAY_21_out_1',\n",
    " 'WEEKDAY_23_out_2',\n",
    " 'WEEKDAY_23_out_1',\n",
    " 'WEEKDAY_22_out_1',\n",
    " \n",
    " 'WEEKENDS_HOLIDAY_0_out_0.5',\n",
    " 'WEEKENDS_HOLIDAY_0_out_2',\n",
    " 'WEEKENDS_HOLIDAY_0_out_1',\n",
    " 'WEEKENDS_HOLIDAY_1_in_2',\n",
    " 'WEEKENDS_HOLIDAY_1_out_2',\n",
    " 'WEEKENDS_HOLIDAY_2_out_0.5',\n",
    " 'WEEKENDS_HOLIDAY_3_in_2',\n",
    " 'WEEKENDS_HOLIDAY_5_in_2',\n",
    " 'WEEKENDS_HOLIDAY_7_in_2',\n",
    " 'WEEKENDS_HOLIDAY_8_in_1',\n",
    " 'WEEKENDS_HOLIDAY_8_in_2',\n",
    " 'WEEKENDS_HOLIDAY_22_out_1',\n",
    " 'WEEKENDS_HOLIDAY_23_out_1',\n",
    " 'population',\n",
    " 'density',\n",
    " 'makan index',\n",
    " 'hdb_count0.2',\n",
    " 'hdb_count0.5',\n",
    " 'hdb_count2',\n",
    " 'hdb_count1',\n",
    " 'classification']"
   ]
  }
 ],
 "metadata": {
  "kernelspec": {
   "display_name": "Python 3",
   "language": "python",
   "name": "python3"
  },
  "language_info": {
   "codemirror_mode": {
    "name": "ipython",
    "version": 3
   },
   "file_extension": ".py",
   "mimetype": "text/x-python",
   "name": "python",
   "nbconvert_exporter": "python",
   "pygments_lexer": "ipython3",
   "version": "3.10.8"
  },
  "orig_nbformat": 4
 },
 "nbformat": 4,
 "nbformat_minor": 2
}
