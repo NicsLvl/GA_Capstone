{
 "cells": [
  {
   "cell_type": "code",
   "execution_count": 15,
   "metadata": {},
   "outputs": [],
   "source": [
    "# import Selenium\n",
    "import selenium\n",
    "from selenium import webdriver\n",
    "from selenium.webdriver.common.by import By\n",
    "\n",
    "import pandas as pd\n",
    "import requests"
   ]
  },
  {
   "cell_type": "markdown",
   "metadata": {},
   "source": [
    "# Getting Data"
   ]
  },
  {
   "cell_type": "code",
   "execution_count": 2,
   "metadata": {},
   "outputs": [
    {
     "name": "stderr",
     "output_type": "stream",
     "text": [
      "/var/folders/nv/vxq64h_j3ydccspj69p0_4_c0000gn/T/ipykernel_44515/1231110829.py:2: DeprecationWarning: executable_path has been deprecated, please pass in a Service object\n",
      "  driver = webdriver.Chrome('/Users/nick/Github/would_you_like_some_fries_with_that/data/chromedriver')\n"
     ]
    }
   ],
   "source": [
    "# Install chrome driver based on the version you have and locate it locally on your computer\n",
    "driver = webdriver.Chrome('/Users/nick/Github/would_you_like_some_fries_with_that/data/chromedriver')\n",
    "URL = \"https://mcdonalds.com.sg/full-menu\"\n",
    "driver.get(URL)"
   ]
  },
  {
   "cell_type": "code",
   "execution_count": 3,
   "metadata": {},
   "outputs": [
    {
     "name": "stdout",
     "output_type": "stream",
     "text": [
      "['Quarter Pounder® with Cheese', 'Double Quarter Pounder® with Cheese', 'Cheeseburger', 'Double Cheeseburger', 'McSpicy®', 'Double McSpicy®', 'Filet-O-Fish®', 'Double Filet-O-Fish®', 'Hamburger', 'McChicken®', 'Big Mac®', 'Buttermilk Crispy Chicken', 'Chicken McCrispy® (2pc)', 'Chicken McCrispy® (6pc)', 'Chicken McNuggets® (6pc)', 'Chicken McNuggets® (9pc)', 'Chicken McNuggets® (20pc)', 'McWings® (2pc)', 'McWings® (4pc)', 'Grilled Chicken McWrap®', 'Grilled Chicken Salad', 'Garden Side Salad', 'Happy Sharing Box® A', 'Happy Sharing Box® B', 'Cheeseburger Happy Meal®', 'Chicken McNuggets® (4pc) Happy Meal®', 'Family Meal (Cheeseburger)', 'Family Meal (McNuggets®)', 'Big Breakfast®', 'Breakfast Deluxe', 'Hotcakes', 'Hotcakes with Sausage', 'Hotcakes (2pc) Happy Meal®', 'Breakfast Family Meal', 'Breakfast Wrap Chicken Sausage', 'Breakfast Wrap Chicken Ham', 'Egg McMuffin®', 'Chicken Muffin', 'Sausage McMuffin®', 'Chicken Muffin with Egg', 'Sausage McMuffin® with Egg', 'Sausage McMuffin® Meal', 'Sausage McMuffin® with Egg Meal', 'Egg McMuffin® Meal', 'Chicken Muffin Meal', 'Filet-O-Fish® Meal', 'Cheeseburger Meal with Dasani® Drinking Water', 'Filet-O-Fish® Meal with Dasani® Drinking Water', 'McChicken® Meal with Dasani® Drinking Water', 'Grilled Chicken McWrap Meal with Dasani® Drinking Water', 'Grilled Chicken Salad Meal with Dasani® Drinking Water', 'Apple Slices', 'French Fries (Small)', 'French Fries (Medium)', 'French Fries (Large)', 'Corn Cup (3oz)', 'Corn Cup (4.5oz)', 'Apple Pie', 'Hash Brown', 'Vanilla Cone', 'ChocoCone®', 'Hot Fudge Sundae', 'Strawberry Sundae', 'OREO® McFlurry®', 'Mudpie McFlurry®', 'Strawberry Shortcake McFlurry®', 'Chocolate Shake', 'Strawberry Shake', 'Vanilla Shake', 'Dasani® Drinking Water', 'Coca-Cola® Original Taste Less Sugar (Small)', 'Coca-Cola® Original Taste Less Sugar (Medium)', 'Coca-Cola® Original Taste Less Sugar (Large)', 'Coca-Cola® Zero Sugar (Small)', 'Coca-Cola® Zero Sugar (Medium)', 'Coca-Cola® Zero Sugar (Large)', 'Sprite® (Small)', 'Sprite® (Medium)', 'Sprite® (Large)', 'Iced MILO® (Small)', 'Iced MILO® (Medium)', 'Jasmine Green Tea (Small)', 'Jasmine Green Tea (Medium)', 'Iced Lemon Tea (Small)', 'Iced Lemon Tea (Medium)', '100% Pure Orange Juice (Small)', '100% Pure Orange Juice (Junior)', 'Low-Fat Hi-Calcium Milk', 'Hot MILO®', 'Hot Tea', 'McCafé® Premium Roast Coffee', 'McCafé® Cappuccino', 'McCafé® Latte', 'McCafé Iced Latte', 'Mocha Frappé (Small)', 'Mocha Frappé (Medium)', 'Caramel Frappé (Small)', 'Caramel Frappé (Medium)']\n"
     ]
    }
   ],
   "source": [
    "menu_items = []\n",
    "# Extract the index of items\n",
    "results = driver.find_elements(By.XPATH, '//ul/li[@class=\"category-item\"]')\n",
    "for i in results:\n",
    "    menu_items.append(i.text)\n",
    "print(menu_items)"
   ]
  },
  {
   "cell_type": "code",
   "execution_count": 4,
   "metadata": {},
   "outputs": [],
   "source": [
    "food_links = []\n",
    "results = driver.find_elements(By.TAG_NAME, 'a')\n",
    "for i in results:\n",
    "    href = i.get_attribute('href')\n",
    "    # only save links with 'food-menu' inside\n",
    "    if ('food-menu') in str(href):\n",
    "        food_links.append(href)"
   ]
  },
  {
   "cell_type": "code",
   "execution_count": 5,
   "metadata": {},
   "outputs": [
    {
     "data": {
      "text/plain": [
       "['https://mcdonalds.com.sg/food-menu/quarter-pounder',\n",
       " 'https://mcdonalds.com.sg/food-menu/quarter-pounder',\n",
       " 'https://mcdonalds.com.sg/food-menu/double-quarter-pounder',\n",
       " 'https://mcdonalds.com.sg/food-menu/double-quarter-pounder',\n",
       " 'https://mcdonalds.com.sg/food-menu/cheeseburger',\n",
       " 'https://mcdonalds.com.sg/food-menu/cheeseburger',\n",
       " 'https://mcdonalds.com.sg/food-menu/double-cheeseburger',\n",
       " 'https://mcdonalds.com.sg/food-menu/double-cheeseburger',\n",
       " 'https://mcdonalds.com.sg/food-menu/mcspicy',\n",
       " 'https://mcdonalds.com.sg/food-menu/mcspicy',\n",
       " 'https://mcdonalds.com.sg/food-menu/double-mcspicy',\n",
       " 'https://mcdonalds.com.sg/food-menu/double-mcspicy',\n",
       " 'https://mcdonalds.com.sg/food-menu/filet-o-fish',\n",
       " 'https://mcdonalds.com.sg/food-menu/filet-o-fish',\n",
       " 'https://mcdonalds.com.sg/food-menu/double-filet-o-fish',\n",
       " 'https://mcdonalds.com.sg/food-menu/double-filet-o-fish',\n",
       " 'https://mcdonalds.com.sg/food-menu/hamburger',\n",
       " 'https://mcdonalds.com.sg/food-menu/hamburger',\n",
       " 'https://mcdonalds.com.sg/food-menu/mcchicken',\n",
       " 'https://mcdonalds.com.sg/food-menu/mcchicken',\n",
       " 'https://mcdonalds.com.sg/food-menu/big-mac',\n",
       " 'https://mcdonalds.com.sg/food-menu/big-mac',\n",
       " 'https://mcdonalds.com.sg/food-menu/buttermilk-crispy-chicken',\n",
       " 'https://mcdonalds.com.sg/food-menu/buttermilk-crispy-chicken',\n",
       " 'https://mcdonalds.com.sg/food-menu/chickenmccrispy',\n",
       " 'https://mcdonalds.com.sg/food-menu/chickenmccrispy',\n",
       " 'https://mcdonalds.com.sg/food-menu/chickenmccrispy6pc',\n",
       " 'https://mcdonalds.com.sg/food-menu/chickenmccrispy6pc',\n",
       " 'https://mcdonalds.com.sg/food-menu/chicken-mcnuggets-6pc',\n",
       " 'https://mcdonalds.com.sg/food-menu/chicken-mcnuggets-6pc',\n",
       " 'https://mcdonalds.com.sg/food-menu/chicken-mcnuggets-9pc',\n",
       " 'https://mcdonalds.com.sg/food-menu/chicken-mcnuggets-9pc',\n",
       " 'https://mcdonalds.com.sg/food-menu/chicken-mcnuggets-20pc',\n",
       " 'https://mcdonalds.com.sg/food-menu/chicken-mcnuggets-20pc',\n",
       " 'https://mcdonalds.com.sg/food-menu/mcwings-4pc',\n",
       " 'https://mcdonalds.com.sg/food-menu/mcwings-4pc',\n",
       " 'https://mcdonalds.com.sg/food-menu/skinless-grilled-chicken-mcwrap-wholegrain',\n",
       " 'https://mcdonalds.com.sg/food-menu/skinless-grilled-chicken-mcwrap-wholegrain',\n",
       " 'https://mcdonalds.com.sg/food-menu/skinless-grilled-chicken-salad',\n",
       " 'https://mcdonalds.com.sg/food-menu/skinless-grilled-chicken-salad',\n",
       " 'https://mcdonalds.com.sg/food-menu/garden-side-salad',\n",
       " 'https://mcdonalds.com.sg/food-menu/garden-side-salad',\n",
       " 'https://mcdonalds.com.sg/food-menu/happy-sharing-box-a',\n",
       " 'https://mcdonalds.com.sg/food-menu/happy-sharing-box-a',\n",
       " 'https://mcdonalds.com.sg/food-menu/happy-sharing-box-b',\n",
       " 'https://mcdonalds.com.sg/food-menu/happy-sharing-box-b',\n",
       " 'https://mcdonalds.com.sg/food-menu/chicken-mcnuggets-4pc-happy-meal',\n",
       " 'https://mcdonalds.com.sg/food-menu/chicken-mcnuggets-4pc-happy-meal',\n",
       " 'https://mcdonalds.com.sg/food-menu/big-breakfast',\n",
       " 'https://mcdonalds.com.sg/food-menu/big-breakfast',\n",
       " 'https://mcdonalds.com.sg/food-menu/breakfast-deluxe',\n",
       " 'https://mcdonalds.com.sg/food-menu/breakfast-deluxe',\n",
       " 'https://mcdonalds.com.sg/food-menu/hotcakes',\n",
       " 'https://mcdonalds.com.sg/food-menu/hotcakes',\n",
       " 'https://mcdonalds.com.sg/food-menu/hotcakes-with-sausage',\n",
       " 'https://mcdonalds.com.sg/food-menu/hotcakes-with-sausage',\n",
       " 'https://mcdonalds.com.sg/food-menu/hotcakes-2pc-happy-meal',\n",
       " 'https://mcdonalds.com.sg/food-menu/hotcakes-2pc-happy-meal',\n",
       " 'https://mcdonalds.com.sg/food-menu/breakfast-wrap-chicken-sausage',\n",
       " 'https://mcdonalds.com.sg/food-menu/breakfast-wrap-chicken-sausage',\n",
       " 'https://mcdonalds.com.sg/food-menu/breakfast-wrap-chicken-ham',\n",
       " 'https://mcdonalds.com.sg/food-menu/breakfast-wrap-chicken-ham',\n",
       " 'https://mcdonalds.com.sg/food-menu/egg-mcmuffin',\n",
       " 'https://mcdonalds.com.sg/food-menu/egg-mcmuffin',\n",
       " 'https://mcdonalds.com.sg/food-menu/chicken-muffin',\n",
       " 'https://mcdonalds.com.sg/food-menu/chicken-muffin',\n",
       " 'https://mcdonalds.com.sg/food-menu/sausage-mcmuffin',\n",
       " 'https://mcdonalds.com.sg/food-menu/sausage-mcmuffin',\n",
       " 'https://mcdonalds.com.sg/food-menu/chicken-muffin-with-egg',\n",
       " 'https://mcdonalds.com.sg/food-menu/chicken-muffin-with-egg',\n",
       " 'https://mcdonalds.com.sg/food-menu/sausage-mcmuffin-with-egg',\n",
       " 'https://mcdonalds.com.sg/food-menu/sausage-mcmuffin-with-egg',\n",
       " 'https://mcdonalds.com.sg/food-menu/wholegrain-sausage-mcmuffin-delight-500-meal',\n",
       " 'https://mcdonalds.com.sg/food-menu/wholegrain-sausage-mcmuffin-delight-500-meal',\n",
       " 'https://mcdonalds.com.sg/food-menu/wholegrain-sausage-mcmuffin-with-egg-delight-500-meal',\n",
       " 'https://mcdonalds.com.sg/food-menu/wholegrain-sausage-mcmuffin-with-egg-delight-500-meal',\n",
       " 'https://mcdonalds.com.sg/food-menu/wholegrain-egg-mcmuffin-delight-500-meal',\n",
       " 'https://mcdonalds.com.sg/food-menu/wholegrain-egg-mcmuffin-delight-500-meal',\n",
       " 'https://mcdonalds.com.sg/food-menu/wholegrain-chicken-muffin-delight-500-meal',\n",
       " 'https://mcdonalds.com.sg/food-menu/wholegrain-chicken-muffin-delight-500-meal',\n",
       " 'https://mcdonalds.com.sg/food-menu/filet-o-fish-delight-500-meal',\n",
       " 'https://mcdonalds.com.sg/food-menu/filet-o-fish-delight-500-meal',\n",
       " 'https://mcdonalds.com.sg/food-menu/cheeseburger-delight-500-meal',\n",
       " 'https://mcdonalds.com.sg/food-menu/cheeseburger-delight-500-meal',\n",
       " 'https://mcdonalds.com.sg/food-menu/filet-o-fish-meal-with-dasani-drinking-water',\n",
       " 'https://mcdonalds.com.sg/food-menu/filet-o-fish-meal-with-dasani-drinking-water',\n",
       " 'https://mcdonalds.com.sg/food-menu/mcchicken-delight-500-meal-with-dasani-water',\n",
       " 'https://mcdonalds.com.sg/food-menu/mcchicken-delight-500-meal-with-dasani-water',\n",
       " 'https://mcdonalds.com.sg/food-menu/grilled-chicken-mcwrap-delight-500-meal-with-dasani-water',\n",
       " 'https://mcdonalds.com.sg/food-menu/grilled-chicken-mcwrap-delight-500-meal-with-dasani-water',\n",
       " 'https://mcdonalds.com.sg/food-menu/grilled-chicken-salad-delight-500-meal-dasani-drinking-water',\n",
       " 'https://mcdonalds.com.sg/food-menu/grilled-chicken-salad-delight-500-meal-dasani-drinking-water',\n",
       " 'https://mcdonalds.com.sg/food-menu/apple-slices',\n",
       " 'https://mcdonalds.com.sg/food-menu/apple-slices',\n",
       " 'https://mcdonalds.com.sg/food-menu/french-fries-small',\n",
       " 'https://mcdonalds.com.sg/food-menu/french-fries-small',\n",
       " 'https://mcdonalds.com.sg/food-menu/french-fries-medium',\n",
       " 'https://mcdonalds.com.sg/food-menu/french-fries-medium',\n",
       " 'https://mcdonalds.com.sg/food-menu/french-fries-large',\n",
       " 'https://mcdonalds.com.sg/food-menu/french-fries-large',\n",
       " 'https://mcdonalds.com.sg/food-menu/corn-cup-3oz',\n",
       " 'https://mcdonalds.com.sg/food-menu/corn-cup-3oz',\n",
       " 'https://mcdonalds.com.sg/food-menu/corn-cup-45oz',\n",
       " 'https://mcdonalds.com.sg/food-menu/corn-cup-45oz',\n",
       " 'https://mcdonalds.com.sg/food-menu/apple-pie',\n",
       " 'https://mcdonalds.com.sg/food-menu/apple-pie',\n",
       " 'https://mcdonalds.com.sg/food-menu/hashbrown',\n",
       " 'https://mcdonalds.com.sg/food-menu/hashbrown',\n",
       " 'https://mcdonalds.com.sg/food-menu/vanilla-cone',\n",
       " 'https://mcdonalds.com.sg/food-menu/vanilla-cone',\n",
       " 'https://mcdonalds.com.sg/food-menu/chococone',\n",
       " 'https://mcdonalds.com.sg/food-menu/chococone',\n",
       " 'https://mcdonalds.com.sg/food-menu/hot-fudge-sundae',\n",
       " 'https://mcdonalds.com.sg/food-menu/hot-fudge-sundae',\n",
       " 'https://mcdonalds.com.sg/food-menu/strawberry-sundae',\n",
       " 'https://mcdonalds.com.sg/food-menu/strawberry-sundae',\n",
       " 'https://mcdonalds.com.sg/food-menu/mcflurry-oreo',\n",
       " 'https://mcdonalds.com.sg/food-menu/mcflurry-oreo',\n",
       " 'https://mcdonalds.com.sg/food-menu/mudpie-mcflurry',\n",
       " 'https://mcdonalds.com.sg/food-menu/mudpie-mcflurry',\n",
       " 'https://mcdonalds.com.sg/food-menu/strawberry-shortcake-mcflurry',\n",
       " 'https://mcdonalds.com.sg/food-menu/strawberry-shortcake-mcflurry',\n",
       " 'https://mcdonalds.com.sg/food-menu/chocolate-milkshake',\n",
       " 'https://mcdonalds.com.sg/food-menu/chocolate-milkshake',\n",
       " 'https://mcdonalds.com.sg/food-menu/strawberry-milkshake',\n",
       " 'https://mcdonalds.com.sg/food-menu/strawberry-milkshake',\n",
       " 'https://mcdonalds.com.sg/food-menu/vanilla-milkshake',\n",
       " 'https://mcdonalds.com.sg/food-menu/vanilla-milkshake',\n",
       " 'https://mcdonalds.com.sg/food-menu/dasani-drinking-water',\n",
       " 'https://mcdonalds.com.sg/food-menu/dasani-drinking-water',\n",
       " 'https://mcdonalds.com.sg/food-menu/coca-cola-small',\n",
       " 'https://mcdonalds.com.sg/food-menu/coca-cola-small',\n",
       " 'https://mcdonalds.com.sg/food-menu/coca-cola-medium',\n",
       " 'https://mcdonalds.com.sg/food-menu/coca-cola-medium',\n",
       " 'https://mcdonalds.com.sg/food-menu/coca-cola-large',\n",
       " 'https://mcdonalds.com.sg/food-menu/coca-cola-large',\n",
       " 'https://mcdonalds.com.sg/food-menu/coca-cola-zero-small',\n",
       " 'https://mcdonalds.com.sg/food-menu/coca-cola-zero-small',\n",
       " 'https://mcdonalds.com.sg/food-menu/coca-cola-zero-medium',\n",
       " 'https://mcdonalds.com.sg/food-menu/coca-cola-zero-medium',\n",
       " 'https://mcdonalds.com.sg/food-menu/coca-cola-zero-large',\n",
       " 'https://mcdonalds.com.sg/food-menu/coca-cola-zero-large',\n",
       " 'https://mcdonalds.com.sg/food-menu/sprite-small',\n",
       " 'https://mcdonalds.com.sg/food-menu/sprite-small',\n",
       " 'https://mcdonalds.com.sg/food-menu/sprite-medium',\n",
       " 'https://mcdonalds.com.sg/food-menu/sprite-medium',\n",
       " 'https://mcdonalds.com.sg/food-menu/sprite-large',\n",
       " 'https://mcdonalds.com.sg/food-menu/sprite-large',\n",
       " 'https://mcdonalds.com.sg/food-menu/iced-milo-small',\n",
       " 'https://mcdonalds.com.sg/food-menu/iced-milo-small',\n",
       " 'https://mcdonalds.com.sg/food-menu/iced-milo-medium',\n",
       " 'https://mcdonalds.com.sg/food-menu/iced-milo-medium',\n",
       " 'https://mcdonalds.com.sg/food-menu/jasmine-green-tea-small',\n",
       " 'https://mcdonalds.com.sg/food-menu/jasmine-green-tea-small',\n",
       " 'https://mcdonalds.com.sg/food-menu/jasmine-green-tea-medium',\n",
       " 'https://mcdonalds.com.sg/food-menu/jasmine-green-tea-medium',\n",
       " 'https://mcdonalds.com.sg/food-menu/iced-lemon-tea-small',\n",
       " 'https://mcdonalds.com.sg/food-menu/iced-lemon-tea-small',\n",
       " 'https://mcdonalds.com.sg/food-menu/iced-lemon-tea-medium',\n",
       " 'https://mcdonalds.com.sg/food-menu/iced-lemon-tea-medium',\n",
       " 'https://mcdonalds.com.sg/food-menu/100-pure-orange-juice-small',\n",
       " 'https://mcdonalds.com.sg/food-menu/100-pure-orange-juice-small',\n",
       " 'https://mcdonalds.com.sg/food-menu/100-pure-orange-juice-junior',\n",
       " 'https://mcdonalds.com.sg/food-menu/100-pure-orange-juice-junior',\n",
       " 'https://mcdonalds.com.sg/food-menu/magnolia-lo-fat-hi-calcium-milk',\n",
       " 'https://mcdonalds.com.sg/food-menu/magnolia-lo-fat-hi-calcium-milk',\n",
       " 'https://mcdonalds.com.sg/food-menu/hot-milo',\n",
       " 'https://mcdonalds.com.sg/food-menu/hot-milo',\n",
       " 'https://mcdonalds.com.sg/food-menu/hot-tea',\n",
       " 'https://mcdonalds.com.sg/food-menu/hot-tea',\n",
       " 'https://mcdonalds.com.sg/food-menu/mccafe-premium-roast-coffee',\n",
       " 'https://mcdonalds.com.sg/food-menu/mccafe-premium-roast-coffee',\n",
       " 'https://mcdonalds.com.sg/food-menu/mccafe-cappuccino',\n",
       " 'https://mcdonalds.com.sg/food-menu/mccafe-cappuccino',\n",
       " 'https://mcdonalds.com.sg/food-menu/mccafe-latte',\n",
       " 'https://mcdonalds.com.sg/food-menu/mccafe-latte',\n",
       " 'https://mcdonalds.com.sg/food-menu/mccafe-iced-latte',\n",
       " 'https://mcdonalds.com.sg/food-menu/mccafe-iced-latte',\n",
       " 'https://mcdonalds.com.sg/food-menu/mocha-frappe-small',\n",
       " 'https://mcdonalds.com.sg/food-menu/mocha-frappe-small',\n",
       " 'https://mcdonalds.com.sg/food-menu/mocha-frappe-medium',\n",
       " 'https://mcdonalds.com.sg/food-menu/mocha-frappe-medium',\n",
       " 'https://mcdonalds.com.sg/food-menu/caramel-frappe-small',\n",
       " 'https://mcdonalds.com.sg/food-menu/caramel-frappe-small',\n",
       " 'https://mcdonalds.com.sg/food-menu/caramel-frappe-medium',\n",
       " 'https://mcdonalds.com.sg/food-menu/caramel-frappe-medium']"
      ]
     },
     "execution_count": 5,
     "metadata": {},
     "output_type": "execute_result"
    }
   ],
   "source": [
    "food_links"
   ]
  },
  {
   "cell_type": "code",
   "execution_count": 6,
   "metadata": {},
   "outputs": [],
   "source": [
    "# only save every 2nd link\n",
    "food_links = food_links[::2]"
   ]
  },
  {
   "cell_type": "code",
   "execution_count": 7,
   "metadata": {},
   "outputs": [
    {
     "data": {
      "text/plain": [
       "93"
      ]
     },
     "execution_count": 7,
     "metadata": {},
     "output_type": "execute_result"
    }
   ],
   "source": [
    "len(food_links)"
   ]
  },
  {
   "cell_type": "code",
   "execution_count": 8,
   "metadata": {},
   "outputs": [],
   "source": [
    "# only save the headers\n",
    "headers = []\n",
    "for i in food_links:\n",
    "    driver.get(i)\n",
    "    results = driver.find_elements(By.TAG_NAME, 'td')\n",
    "    for j in results:\n",
    "        # if iteration is even, save the text\n",
    "        if (results.index(j) % 2) == 0:\n",
    "            headers.append(j.text)\n",
    "    break"
   ]
  },
  {
   "cell_type": "code",
   "execution_count": 9,
   "metadata": {},
   "outputs": [
    {
     "data": {
      "text/plain": [
       "['Energy',\n",
       " 'Protein',\n",
       " 'Total Fat',\n",
       " 'Saturated Fat',\n",
       " 'Cholesterol',\n",
       " 'Carbohydrates',\n",
       " 'Dietary Fibres',\n",
       " 'Sodium']"
      ]
     },
     "execution_count": 9,
     "metadata": {},
     "output_type": "execute_result"
    }
   ],
   "source": [
    "headers"
   ]
  },
  {
   "cell_type": "code",
   "execution_count": 10,
   "metadata": {},
   "outputs": [],
   "source": [
    "# save the nutritional information for each page\n",
    "nutrition = []\n",
    "for i in food_links:\n",
    "    driver.get(i)\n",
    "    title = driver.find_element(By.TAG_NAME, 'h1').text\n",
    "    nutrition.append(title)\n",
    "    \n",
    "    results = driver.find_elements(By.TAG_NAME, 'td')\n",
    "    for j in results:\n",
    "        # if iteration is even, save the text\n",
    "        if ((results.index(j)+1) % 2) == 0:\n",
    "            nutrition.append(j.text)"
   ]
  },
  {
   "cell_type": "code",
   "execution_count": 11,
   "metadata": {},
   "outputs": [
    {
     "name": "stdout",
     "output_type": "stream",
     "text": [
      "[['Quarter Pounder® with Cheese', '507.00 kcal', '32.00 g', '25.00 g', '13.00 g', '89.00 mg', '38.00 g', '3.00 g', '1265.00 mg'], ['Double Quarter Pounder® with Cheese', '717.00 kcal', '50.00 g', '40.00 g', '20.00 g', '154.00 mg', '39.00 g', '4.00 g', '1698.00 mg'], ['Cheeseburger', '303.00 kcal', '16.00 g', '12.00 g', '6.00 g', '40.00 mg', '32.00 g', '2.00 g', '860.00 mg'], ['Double Cheeseburger', '443.00 kcal', '27.00 g', '22.00 g', '12.00 g', '79.00 mg', '34.00 g', '3.00 g', '1360.00 mg'], ['McSpicy®', '541.00 kcal', '23.00 g', '28.00 g', '6.00 g', '76.00 mg', '50.00 g', '4.00 g', '1269.00 mg'], ['Double McSpicy®', '833.00 kcal', '38.00 g', '46.00 g', '9.00 g', '140.00 mg', '66.00 g', '6.00 g', '2161.00 mg'], ['Filet-O-Fish®', '332.00 kcal', '15.00 g', '13.00 g', '5.00 g', '36.00 mg', '38.00 g', '2.00 g', '562.00 mg'], ['Double Filet-O-Fish®', '466.00 kcal', '24.00 g', '20.00 g', '8.00 g', '64.00 mg', '48.00 g', '3.00 g', '756.00 mg'], ['Hamburger', '253.00 kcal', '14.00 g', '8.00 g', '4.00 g', '28.00 mg', '31.00 g', '2.00 g', '690.00 mg'], ['McChicken®', '391.00 kcal', '15.00 g', '18.00 g', '3.00 g', '38.00 mg', '42.00 g', '2.00 g', '751.00 mg'], ['Big Mac®', '558.00 kcal', '28.00 g', '28.00 g', '11.00 g', '68.00 mg', '48.00 g', '4.00 g', '1321.00 mg'], ['Buttermilk Crispy Chicken', '739.00 kcal', '26.00 g', '42.00 g', '7.00 g', '65.00 mg', '64.00 g', '4.00 g', '1422.00 mg'], ['Chicken McCrispy® (2pc)', '689.00 kcal', '39.00 g', '41.00 g', '8.00 g', '135.00 mg', '42.00 g', '3.00 g', '1895.00 mg'], ['Chicken McCrispy® (6pc)', '2068.00 kcal', '117.00 g', '122.00 g', '25.10 g', '406.00 mg', '125.00 g', '10.30 g', '5685.00 mg'], ['Chicken McNuggets® (6pc)', '273.00 kcal', '14.00 g', '16.00 g', '2.00 g', '44.00 mg', '17.00 g', '1.00 g', '506.00 mg'], ['Chicken McNuggets® (9pc)', '409.00 kcal', '21.00 g', '24.00 g', '3.00 g', '66.00 mg', '26.00 g', '2.00 g', '759.00 mg'], ['Chicken McNuggets® (20pc)', '910.00 kcal', '46.00 g', '54.00 g', '7.00 g', '147.00 mg', '57.00 g', '4.00 g', '1686.00 mg'], ['McWings® (4pc)', '603.00 kcal', '35.00 g', '41.00 g', '8.00 g', '175.00 mg', '25.00 g', '3.00 g', '1363.00 mg'], ['Grilled Chicken McWrap®', '361.00 kcal', '23.00 g', '18.00 g', '5.00 g', '83.00 mg', '29.00 g', '3.00 g', '992.00 mg'], ['Grilled Chicken Salad', '173.00 kcal', '20.00 g', '7.00 g', '2.00 g', '72.00 mg', '7.00 g', '1.00 g', '533.00 mg'], ['Garden Side Salad', '21.00 kcal', '1.00 g', '0.00 g', '0.00 g', '0.00 mg', '4.00 g', '1.00 g', '10.00 mg'], ['Happy Sharing Box® A', '1730.00 kcal', '101.00 g', '109.00 g', '20.00 g', '480.00 mg', '85.00 g', '6.00 g', '3698.00 mg'], ['Happy Sharing Box® B', '865.00 kcal', '50.00 g', '54.00 g', '10.00 g', '240.00 mg', '43.00 g', '3.00 g', '1849.00 mg'], ['Chicken McNuggets® (4pc) Happy Meal®', '204.00 kcal', '10.00 g', '12.00 g', '1.00 g', '33.00 mg', '13.00 g', '1.00 g', '378.00 mg'], ['Big Breakfast®', '496.00 kcal', '27.00 g', '22.00 g', '6.00 g', '418.00 mg', '47.00 g', '5.00 g', '971.00 mg'], ['Breakfast Deluxe', '805.00 kcal', '31.00 g', '29.00 g', '10.00 g', '487.00 mg', '104.00 g', '6.00 g', '1123.00 mg'], ['Hotcakes', '557.00 kcal', '9.00 g', '18.00 g', '6.00 g', '20.00 mg', '91.00 g', '3.00 g', '685.00 mg'], ['Hotcakes with Sausage', '619.00 kcal', '16.00 g', '21.00 g', '7.00 g', '51.00 mg', '92.00 g', '4.00 g', '974.00 mg'], ['Hotcakes (2pc) Happy Meal®', '430.00 kcal', '6.00 g', '15.00 g', '5.00 g', '14.00 mg', '69.00 g', '2.00 g', '501.00 mg'], ['Breakfast Wrap Chicken Sausage', '472.00 kcal', '22.00 g', '24.00 g', '9.00 g', '236.00 mg', '44.00 g', '5.00 g', '1353.00 mg'], ['Breakfast Wrap Chicken Ham', '430.00 kcal', '17.00 g', '21.00 g', '8.00 g', '222.00 mg', '43.00 g', '4.00 g', '1201.00 mg'], ['Egg McMuffin®', '289.00 kcal', '18.00 g', '11.00 g', '5.00 g', '236.00 mg', '29.00 g', '3.00 g', '574.00 mg'], ['Chicken Muffin', '407.00 kcal', '16.00 g', '21.00 g', '6.00 g', '49.00 mg', '38.00 g', '4.00 g', '847.00 mg'], ['Sausage McMuffin®', '258.00 kcal', '16.00 g', '9.00 g', '4.00 g', '43.00 mg', '29.00 g', '4.00 g', '653.00 mg'], ['Chicken Muffin with Egg', '481.00 kcal', '23.00 g', '26.00 g', '7.00 g', '256.00 mg', '39.00 g', '4.00 g', '921.00 mg'], ['Sausage McMuffin® with Egg', '337.00 kcal', '23.00 g', '14.00 g', '6.00 g', '264.00 mg', '30.00 g', '4.00 g', '732.00 mg'], ['Sausage McMuffin® Meal', '355.00 kcal', '21.00 g', '12.00 g', '5.20 g', '141.00 mg', '41.00 g', '5.00 g', '740.00 mg'], ['Sausage McMuffin® with Egg Meal', '434.00 kcal', '28.00 g', '17.00 g', '6.80 g', '362.00 mg', '42.00 g', '5.00 g', '820.00 mg'], ['Egg McMuffin® Meal', '366.00 kcal', '23.00 g', '12.00 g', '5.20 g', '335.00 mg', '41.00 g', '5.00 g', '670.00 mg'], ['Chicken Muffin Meal', '482.00 kcal', '22.00 g', '21.00 g', '5.90 g', '151.00 mg', '50.00 g', '5.00 g', '930.00 mg'], ['Filet-O-Fish® Meal', '403.00 kcal', '15.00 g', '13.00 g', '3.50 g', '90.00 mg', '38.00 g', '2.00 g', '570.00 mg'], ['Cheeseburger Meal with Dasani® Drinking Water', '396.00 kcal', '21.00 g', '13.00 g', '6.40 g', '141.00 mg', '50.00 g', '5.00 g', '810.00 mg'], ['Filet-O-Fish® Meal with Dasani® Drinking Water', '421.00 kcal', '16.00 g', '13.00 g', '3.50 g', '90.00 mg', '42.00 g', '3.00 g', '580.00 mg'], ['McChicken® Meal with Dasani® Drinking Water', '483.00 kcal', '19.00 g', '18.00 g', '3.50 g', '41.00 mg', '61.00 g', '6.00 g', '860.00 mg'], ['Grilled Chicken McWrap Meal with Dasani® Drinking Water', '426.00 kcal', '25.00 g', '18.00 g', '5.20 g', '82.00 mg', '41.00 g', '4.00 g', '1060.00 mg'], ['Grilled Chicken Salad Meal with Dasani® Drinking Water', '256.00 kcal', '23.00 g', '7.00 g', '1.90 g', '77.00 mg', '25.00 g', '4.00 g', '610.00 mg'], ['Apple Slices', '30.00 kcal', '0.00 g', '0.00 g', '0.00 g', '1.00 mg', '7.00 g', '1.00 g', '17.00 mg'], ['French Fries (Small)', '315.00 kcal', '4.00 g', '17.00 g', '5.00 g', '1.00 mg', '37.00 g', '4.00 g', '193.00 mg'], ['French Fries (Medium)', '384.00 kcal', '5.00 g', '20.00 g', '6.00 g', '1.00 mg', '46.00 g', '5.00 g', '236.00 mg'], ['French Fries (Large)', '512.00 kcal', '6.00 g', '27.00 g', '8.00 g', '1.00 mg', '61.00 g', '6.00 g', '314.00 mg'], ['Corn Cup (3oz)', '66.00 kcal', '2.00 g', '1.00 g', '0.00 g', '0.00 mg', '12.00 g', '2.00 g', '67.00 mg'], ['Corn Cup (4.5oz)', '100.00 kcal', '4.00 g', '1.00 g', '0.00 g', '0.00 mg', '18.00 g', '3.00 g', '101.00 mg'], ['Apple Pie', '231.00 kcal', '1.00 g', '12.00 g', '6.00 g', '1.00 mg', '29.00 g', '1.00 g', '185.00 mg'], ['Hash Brown', '149.00 kcal', '1.00 g', '8.00 g', '1.00 g', '0.00 mg', '17.00 g', '1.00 g', '351.00 mg'], ['Vanilla Cone', '133.00 kcal', '3.00 g', '4.00 g', '2.00 g', '2.00 mg', '22.00 g', '0.00 g', '56.00 mg'], ['ChocoCone®', '281.00 kcal', '3.00 g', '16.00 g', '10.00 g', '2.00 mg', '31.00 g', '1.00 g', '65.00 mg'], ['Hot Fudge Sundae', '314.00 kcal', '6.00 g', '10.00 g', '7.00 g', '3.00 mg', '49.00 g', '1.00 g', '168.00 mg'], ['Strawberry Sundae', '261.00 kcal', '5.00 g', '6.00 g', '3.00 g', '4.00 mg', '47.00 g', '0.00 g', '84.00 mg'], ['OREO® McFlurry®', '368.00 kcal', '7.00 g', '13.00 g', '6.00 g', '5.00 mg', '56.00 g', '1.00 g', '221.00 mg'], ['Mudpie McFlurry®', '493.00 kcal', '9.00 g', '17.00 g', '10.00 g', '5.00 mg', '76.00 g', '1.00 g', '314.00 mg'], ['Strawberry Shortcake McFlurry®', '440.00 kcal', '7.00 g', '13.00 g', '6.00 g', '5.00 mg', '74.00 g', '1.00 g', '230.00 mg'], ['Chocolate Shake', '387.00 kcal', '10.00 g', '10.00 g', '5.00 g', '7.00 mg', '65.00 g', '1.00 g', '207.00 mg'], ['Strawberry Shake', '381.00 kcal', '9.00 g', '9.00 g', '5.00 g', '7.00 mg', '65.00 g', '0.00 g', '134.00 mg'], ['Vanilla Shake', '378.00 kcal', '9.00 g', '10.00 g', '5.00 g', '7.00 mg', '63.00 g', '0.00 g', '132.00 mg'], ['Dasani® Drinking Water', '0.00 kcal', '0.00 g', '0.00 g', '0.00 g', '0.00 mg', '0.00 g', '0.00 g', '0.00 mg'], ['Coca-Cola® Original Taste Less Sugar (Small)', '109.00 kcal', '0.00 g', '0.00 g', '0.00 g', '0.00 mg', '27.00 g', '0.00 g', '7.00 mg'], ['Coca-Cola® Original Taste Less Sugar (Medium)', '152.00 kcal', '0.00 g', '0.00 g', '0.00 g', '0.00 mg', '38.00 g', '0.00 g', '10.00 mg'], ['Coca-Cola® Original Taste Less Sugar (Large)', '221.00 kcal', '0.00 g', '0.00 g', '0.00 g', '0.00 mg', '55.00 g', '0.00 g', '15.00 mg'], ['Coca-Cola® Zero Sugar (Small)', '0.00 kcal', '0.00 g', '0.00 g', '0.00 g', '0.00 mg', '0.00 g', '0.00 g', '29.00 mg'], ['Coca-Cola® Zero Sugar (Medium)', '0.00 kcal', '0.00 g', '0.00 g', '0.00 g', '0.00 mg', '0.00 g', '0.00 g', '40.00 mg'], ['Coca-Cola® Zero Sugar (Large)', '0.00 kcal', '0.00 g', '0.00 g', '0.00 g', '0.00 mg', '0.00 g', '0.00 g', '58.00 mg'], ['Sprite® (Small)', '80.00 kcal', '0.00 g', '0.00 g', '0.00 g', '0.00 mg', '20.00 g', '0.00 g', '47.00 mg'], ['Sprite® (Medium)', '112.00 kcal', '0.00 g', '0.00 g', '0.00 g', '0.00 mg', '27.00 g', '0.00 g', '65.00 mg'], ['Sprite® (Large)', '163.00 kcal', '0.00 g', '0.00 g', '0.00 g', '0.00 mg', '40.00 g', '0.00 g', '95.00 mg'], ['Iced MILO® (Small)', '227.00 kcal', '7.00 g', '6.00 g', '3.00 g', '4.00 mg', '36.00 g', '2.00 g', '132.00 mg'], ['Iced MILO® (Medium)', '322.00 kcal', '10.00 g', '9.00 g', '4.00 g', '5.00 mg', '51.00 g', '3.00 g', '187.00 mg'], ['Jasmine Green Tea (Small)', '62.00 kcal', '0.00 g', '0.00 g', '0.00 g', '0.00 mg', '15.00 g', '0.00 g', '22.00 mg'], ['Jasmine Green Tea (Medium)', '86.00 kcal', '0.00 g', '0.00 g', '0.00 g', '0.00 mg', '21.00 g', '0.00 g', '30.00 mg'], ['Iced Lemon Tea (Small)', '66.00 kcal', '0.00 g', '0.00 g', '0.00 g', '0.00 mg', '16.00 g', '0.00 g', '11.00 mg'], ['Iced Lemon Tea (Medium)', '91.00 kcal', '0.00 g', '0.00 g', '0.00 g', '0.00 mg', '22.00 g', '0.00 g', '15.00 mg'], ['100% Pure Orange Juice (Small)', '193.00 kcal', '2.00 g', '0.00 g', '0.00 g', '0.00 mg', '45.00 g', '0.00 g', '0.00 mg'], ['100% Pure Orange Juice (Junior)', '145.00 kcal', '2.00 g', '0.00 g', '0.00 g', '0.00 mg', '34.00 g', '0.00 g', '0.00 mg'], ['Low-Fat Hi-Calcium Milk', '96.00 kcal', '7.00 g', '3.00 g', '2.00 g', '10.00 mg', '10.00 g', '0.00 g', '98.00 mg'], ['Hot MILO®', '192.00 kcal', '5.00 g', '4.00 g', '2.00 g', '4.00 mg', '33.00 g', '2.00 g', '153.00 mg'], ['Hot Tea', '4.00 kcal', '1.00 g', '0.00 g', '0.00 g', '0.00 mg', '0.00 g', '0.00 g', '3.00 mg'], ['McCafé® Premium Roast Coffee', '14.00 kcal', '3.00 g', '0.00 g', '0.00 g', '0.00 mg', '0.00 g', '0.00 g', '2.00 mg'], ['McCafé® Cappuccino', '166.00 kcal', '9.00 g', '9.00 g', '7.00 g', '0.00 mg', '13.00 g', '0.00 g', '0.00 mg'], ['McCafé® Latte', '182.00 kcal', '10.00 g', '10.00 g', '7.00 g', '0.00 mg', '14.00 g', '0.00 g', '0.00 mg'], ['McCafé Iced Latte', '237.00 kcal', '7.00 g', '8.00 g', '6.00 g', '0.00 mg', '36.00 g', '0.00 g', '21.00 mg'], ['Mocha Frappé (Small)', '456.00 kcal', '3.00 g', '20.00 g', '10.00 g', '55.00 mg', '44.00 g', '2.00 g', '92.00 mg'], ['Mocha Frappé (Medium)', '582.00 kcal', '9.00 g', '26.00 g', '18.00 g', '20.00 mg', '77.00 g', '1.00 g', '343.00 mg'], ['Caramel Frappé (Small)', '462.00 kcal', '3.00 g', '20.00 g', '5.00 g', '55.00 mg', '59.00 g', '0.00 g', '95.00 mg'], ['Caramel Frappé (Medium)', '573.00 kcal', '9.00 g', '26.00 g', '17.00 g', '20.00 mg', '76.00 g', '0.00 g', '390.00 mg']]\n"
     ]
    }
   ],
   "source": [
    "# add title to the front of headers\n",
    "headers.insert(0, 'title')\n",
    "\n",
    "# split nutrition into len(headers) number of columns\n",
    "nutrition = [nutrition[i:i+len(headers)] for i in range(0, len(nutrition), len(headers))]\n",
    "print(nutrition)"
   ]
  },
  {
   "cell_type": "code",
   "execution_count": 12,
   "metadata": {},
   "outputs": [],
   "source": [
    "# create a dataframe with headers and nutrition\n",
    "df = pd.DataFrame(nutrition,columns=headers)"
   ]
  },
  {
   "cell_type": "code",
   "execution_count": 13,
   "metadata": {},
   "outputs": [
    {
     "name": "stdout",
     "output_type": "stream",
     "text": [
      "<class 'pandas.core.frame.DataFrame'>\n",
      "RangeIndex: 93 entries, 0 to 92\n",
      "Data columns (total 9 columns):\n",
      " #   Column          Non-Null Count  Dtype \n",
      "---  ------          --------------  ----- \n",
      " 0   title           93 non-null     object\n",
      " 1   Energy          93 non-null     object\n",
      " 2   Protein         93 non-null     object\n",
      " 3   Total Fat       93 non-null     object\n",
      " 4   Saturated Fat   93 non-null     object\n",
      " 5   Cholesterol     93 non-null     object\n",
      " 6   Carbohydrates   93 non-null     object\n",
      " 7   Dietary Fibres  93 non-null     object\n",
      " 8   Sodium          93 non-null     object\n",
      "dtypes: object(9)\n",
      "memory usage: 6.7+ KB\n"
     ]
    }
   ],
   "source": [
    "df.info()"
   ]
  },
  {
   "cell_type": "code",
   "execution_count": 14,
   "metadata": {},
   "outputs": [],
   "source": [
    "# remove g from each cell in protein, fat, saturated fat, carbohydrates and dietary fibres  and convert to float\n",
    "df['Protein'] = df['Protein'].str.replace('g', '').astype(float)\n",
    "df['Total Fat'] = df['Total Fat'].str.replace('g', '').astype(float)\n",
    "df['Saturated Fat'] = df['Saturated Fat'].str.replace('g', '').astype(float)\n",
    "df['Carbohydrates'] = df['Carbohydrates'].str.replace('g', '').astype(float)\n",
    "df['Dietary Fibres'] = df['Dietary Fibres'].str.replace('g', '').astype(float)\n",
    "\n",
    "# remove kcal from each cell in energy and convert to float\n",
    "df['Energy'] = df['Energy'].str.replace('kcal', '').astype(float)\n",
    "\n",
    "# remove mg from each cell in sodium and convert to float\n",
    "df['Sodium'] = df['Sodium'].str.replace('mg', '').astype(float)\n",
    "\n",
    "# remove mg from each cell in cholesterol and convert to float\n",
    "df['Cholesterol'] = df['Cholesterol'].str.replace('mg', '').astype(float)"
   ]
  },
  {
   "cell_type": "code",
   "execution_count": 15,
   "metadata": {},
   "outputs": [],
   "source": [
    "# extract to csv named mcd.csv\n",
    "df.to_csv('nutrition.csv', index=False)"
   ]
  }
 ],
 "metadata": {
  "kernelspec": {
   "display_name": ".venv",
   "language": "python",
   "name": "python3"
  },
  "language_info": {
   "codemirror_mode": {
    "name": "ipython",
    "version": 3
   },
   "file_extension": ".py",
   "mimetype": "text/x-python",
   "name": "python",
   "nbconvert_exporter": "python",
   "pygments_lexer": "ipython3",
   "version": "3.10.8"
  },
  "orig_nbformat": 4
 },
 "nbformat": 4,
 "nbformat_minor": 2
}
