{
 "cells": [
  {
   "cell_type": "code",
   "execution_count": 16,
   "metadata": {},
   "outputs": [],
   "source": [
    "# selenium is used because the website is dynamic\n",
    "# If the website requires user interaction or has dynamic content, then Selenium may be a better choice.\n",
    "from selenium import webdriver\n",
    "from selenium.webdriver.common.keys import Keys\n",
    "from selenium.webdriver.common.by import By\n",
    "\n",
    "# Beautiful Soup is a library for parsing HTML and XML documents\n",
    "from bs4 import BeautifulSoup as bs\n",
    "\n",
    "import pandas as pd\n",
    "import requests\n",
    "import re"
   ]
  },
  {
   "cell_type": "code",
   "execution_count": 29,
   "metadata": {},
   "outputs": [
    {
     "name": "stderr",
     "output_type": "stream",
     "text": [
      "/var/folders/nv/vxq64h_j3ydccspj69p0_4_c0000gn/T/ipykernel_22163/1035134334.py:1: DeprecationWarning: executable_path has been deprecated, please pass in a Service object\n",
      "  driver = webdriver.Chrome('/Users/nick/Github/GA_Capstone/chromedriver')\n"
     ]
    }
   ],
   "source": [
    "# Install chrome driver based on the version you have and locate it locally\n",
    "driver = webdriver.Chrome('/Users/nick/Github/GA_Capstone/chromedriver')\n",
    "URL = \"https://www.mycareersfuture.gov.sg/search?search=data&sortBy=relevancy&page=0\"\n",
    "driver.get(URL)"
   ]
  },
  {
   "cell_type": "code",
   "execution_count": 37,
   "metadata": {},
   "outputs": [
    {
     "name": "stdout",
     "output_type": "stream",
     "text": [
      "TRUST RECRUIT PTE. LTD.\n",
      "Data Operation / Data Ops Engineer ( Python , Azure Data Factory , SQL , Fresh Welcome , Training Provided , AWS + VB!!! ) - URGENT HIRING!!!\n",
      "IslandwideFull TimeFresh/Entry LevelInformation Technology\n",
      "0% skills matched\n",
      "$3,000to$5,500\n",
      "Monthly\n",
      "0 application\n",
      "Posted today\n",
      "Open to trying out a new job?\n",
      "Discover jobs where you can receive training allowances while gaining experience from short-term trials.\n",
      "Search jobs with government support\n",
      "ADNOVUM SINGAPORE PTE. LTD.\n",
      "Senior Data Engineer\n",
      "CentralPermanentProfessionalInformation Technology\n",
      "0% skills matched\n",
      "$7,000to$14,000\n",
      "Monthly\n",
      "4 applications\n",
      "Posted 2 days ago\n",
      "Recommended based on your skills & job applications\n",
      "SYNPULSE SINGAPORE PTE. LTD.\n",
      "Senior Data Engineer\n",
      "CentralPermanent ...Senior ExecutiveBanking And Finance ...5 Years Exp\n",
      "0% skills matched\n",
      "$7,000to$14,000\n",
      "Monthly\n",
      "4 applications\n",
      "Posted 16 days ago\n",
      "THOUGHTWORKS PTE. LTD.\n",
      "Senior Data Engineer\n",
      "CentralFull TimeProfessionalConsulting ...\n",
      "0% skills matched\n",
      "$7,000to$12,000\n",
      "Monthly\n",
      "4 applications\n",
      "Posted 3 days ago\n",
      "QUANTEXA PTE. LTD.\n",
      "Data Engineer\n",
      "EastFull TimeNon-ExecutiveConsulting ...\n",
      "0% skills matched\n",
      "$9,000to$11,000\n",
      "Monthly\n",
      "3 applications\n",
      "Posted 3 days ago\n",
      "FONG'S ENGINEERING AND MANUFACTURING PTE LTD\n",
      "Data Engineer\n",
      "EastFull TimeExecutiveInformation Technology\n",
      "0% skills matched\n",
      "$3,000to$4,500\n",
      "Monthly\n",
      "1 application\n",
      "Posted 2 days ago\n",
      "BENCHMARK STAFFING SOLUTIONS\n",
      "Data Analyst / Senior\n",
      "IslandwidePermanentExecutiveInformation Technology\n",
      "0% skills matched\n",
      "$6,000to$7,500\n",
      "Monthly\n",
      "11 applications\n",
      "Posted 2 days ago\n",
      "GAMETION GLOBAL TECHNOLOGIES PTE. LIMITEDRECRUITER\n",
      "for GAMETION GLOBAL TECHNOLOGIES PTE. LIMITED\n",
      "Data Analyst\n",
      "CentralPermanentExecutiveOthers\n",
      "0% skills matched\n",
      "$4,000to$5,500\n",
      "Monthly\n",
      "3 applications\n",
      "Posted 2 days ago\n",
      "ROBERT WALTERS (SINGAPORE) PTE LTD\n",
      "Data Analyst\n",
      "CentralContractExecutiveInformation Technology\n",
      "0% skills matched\n",
      "$3,000to$6,000\n",
      "Monthly\n",
      "5 applications\n",
      "Posted 3 days ago\n",
      "SEACARE MANPOWER SERVICES PTE LTD\n",
      "Data Analyst\n",
      "IslandwideContractExecutiveInformation Technology\n",
      "0% skills matched\n",
      "$4,500to$6,000\n",
      "Monthly\n",
      "21 applications\n",
      "Posted 2 days ago\n",
      "ST ENGINEERING AEROSPACE LTD.\n",
      "Data Engineer\n",
      "NorthPermanentSenior ExecutiveEngineering ...\n",
      "0% skills matched\n",
      "$4,500to$8,500\n",
      "Monthly\n",
      "3 applications\n",
      "Posted 3 days ago\n",
      "BISON TECHNOLOGY PTE. LIMITED\n",
      "Senior Data Analyst\n",
      "CentralPermanentSenior ExecutiveInformation Technology\n",
      "0% skills matched\n",
      "$7,000to$10,000\n",
      "Monthly\n",
      "9 applications\n",
      "Posted 3 days ago\n",
      "QUANTEXA PTE. LTD.\n",
      "Senior Data Engineer\n",
      "EastFull TimeMiddle ManagementConsulting ...\n",
      "0% skills matched\n",
      "$10,000to$14,500\n",
      "Monthly\n",
      "11 applications\n",
      "Posted 19 days ago\n",
      "Recommended based on your skills & job applications\n",
      "FEDERAL EXPRESS (SINGAPORE) PTE LTD\n",
      "Data Analyst / Senior Data Analyst\n",
      "IslandwidePermanent ...ExecutiveLogistics / Supply Chain5 Years Exp\n",
      "0% skills matched\n",
      "$4,290to$7,300\n",
      "Monthly\n",
      "165 applications\n",
      "Posted 19 days ago\n",
      "NMG FINANCIAL SERVICES CONSULTING PTE LTD\n",
      "Senior Data Engineer\n",
      "EastFull TimeManagerInformation Technology\n",
      "0% skills matched\n",
      "$8,000to$9,500\n",
      "Monthly\n",
      "5 applications\n",
      "Posted 30 days ago\n",
      "TIKTOK PTE. LTD.\n",
      "Data Analyst\n",
      "CentralPermanent ...Senior ExecutiveAdvertising / Media ...\n",
      "0% skills matched\n",
      "$6,000to$12,000\n",
      "Monthly\n",
      "15 applications\n",
      "Posted 3 days ago\n",
      "LION GLOBAL INVESTORS LIMITED\n",
      "Data Manager\n",
      "CentralPermanent ...ManagerBanking And Finance ...\n",
      "0% skills matched\n",
      "$6,000to$9,000\n",
      "Monthly\n",
      "16 applications\n",
      "Posted 30 days ago\n",
      "ASSOCIATION EDHEC BUSINESS SCHOOL SINGAPORE BRANCH\n",
      "Senior Data Manager\n",
      "CentralPermanentManagerBanking And Finance ...\n",
      "0% skills matched\n",
      "$8,000to$16,000\n",
      "Monthly\n",
      "7 applications\n",
      "Posted 5 days ago\n",
      "MIGHTY JAXX INTERNATIONAL PTE. LTD.\n",
      "Data Engineer\n",
      "NorthPermanent ...ExecutiveInformation Technology\n",
      "0% skills matched\n",
      "$4,500to$6,000\n",
      "Monthly\n",
      "13 applications\n",
      "Posted 25 days ago\n",
      "CDG ZIG PTE. LTD.\n",
      "Senior Data Analyst\n",
      "NorthFull TimeSenior ExecutiveEngineering ...\n",
      "0% skills matched\n",
      "$6,000to$8,800\n",
      "Monthly\n",
      "79 applications\n",
      "Posted 19 days ago\n",
      "COGNOSPHERE PTE. LTD.\n",
      "Data Test Engineer\n",
      "SouthPermanent ...ExecutiveInformation Technology\n",
      "0% skills matched\n",
      "$6,000to$8,000\n",
      "Monthly\n",
      "1 application\n",
      "Posted 2 days ago\n",
      "RAPSYS TECHNOLOGIES PTE. LTD.\n",
      "Data Engineer\n",
      "EastPermanentExecutiveInformation Technology\n",
      "0% skills matched\n",
      "$6,500to$8,000\n",
      "Monthly\n",
      "15 applications\n",
      "Posted 6 days ago\n"
     ]
    }
   ],
   "source": [
    "results = driver.find_element(By.CLASS_NAME, 'card-list').text\n",
    "print(results)"
   ]
  },
  {
   "cell_type": "code",
   "execution_count": 28,
   "metadata": {},
   "outputs": [
    {
     "name": "stdout",
     "output_type": "stream",
     "text": [
      "None\n"
     ]
    }
   ],
   "source": []
  },
  {
   "cell_type": "code",
   "execution_count": 26,
   "metadata": {},
   "outputs": [
    {
     "ename": "TypeError",
     "evalue": "'WebElement' object is not iterable",
     "output_type": "error",
     "traceback": [
      "\u001b[0;31m---------------------------------------------------------------------------\u001b[0m",
      "\u001b[0;31mTypeError\u001b[0m                                 Traceback (most recent call last)",
      "Cell \u001b[0;32mIn [26], line 1\u001b[0m\n\u001b[0;32m----> 1\u001b[0m \u001b[39mfor\u001b[39;00m i \u001b[39min\u001b[39;00m results:\n\u001b[1;32m      2\u001b[0m     elementHTML \u001b[39m=\u001b[39m i\u001b[39m.\u001b[39mget_attribute(\u001b[39m'\u001b[39m\u001b[39mouterHTML\u001b[39m\u001b[39m'\u001b[39m) \u001b[39m#gives exact HTML content of the element\u001b[39;00m\n\u001b[1;32m      3\u001b[0m     elementSoup \u001b[39m=\u001b[39m bs(elementHTML,\u001b[39m'\u001b[39m\u001b[39mhtml.parser\u001b[39m\u001b[39m'\u001b[39m)\n",
      "\u001b[0;31mTypeError\u001b[0m: 'WebElement' object is not iterable"
     ]
    }
   ],
   "source": [
    "for i in results:\n",
    "    elementHTML = i.get_attribute('outerHTML') #gives exact HTML content of the element\n",
    "    elementSoup = bs(elementHTML,'html.parser')\n",
    "    print(elementSoup)"
   ]
  },
  {
   "cell_type": "code",
   "execution_count": 21,
   "metadata": {},
   "outputs": [
    {
     "ename": "AttributeError",
     "evalue": "'NoneType' object has no attribute 'find_all'",
     "output_type": "error",
     "traceback": [
      "\u001b[0;31m---------------------------------------------------------------------------\u001b[0m",
      "\u001b[0;31mAttributeError\u001b[0m                            Traceback (most recent call last)",
      "Cell \u001b[0;32mIn [21], line 1\u001b[0m\n\u001b[0;32m----> 1\u001b[0m job_elements \u001b[39m=\u001b[39m results\u001b[39m.\u001b[39;49mfind_all(\u001b[39m\"\u001b[39m\u001b[39mdiv\u001b[39m\u001b[39m\"\u001b[39m, class_\u001b[39m=\u001b[39m\u001b[39m\"\u001b[39m\u001b[39mcard-list\u001b[39m\u001b[39m\"\u001b[39m)\n\u001b[1;32m      2\u001b[0m \u001b[39mfor\u001b[39;00m job_element \u001b[39min\u001b[39;00m job_elements:\n\u001b[1;32m      3\u001b[0m     \u001b[39m# title_element = job_element.find(\"h2\", class_=\"title\")\u001b[39;00m\n\u001b[1;32m      4\u001b[0m     company_element \u001b[39m=\u001b[39m job_element\u001b[39m.\u001b[39mfind(\u001b[39m\"\u001b[39m\u001b[39mh3\u001b[39m\u001b[39m\"\u001b[39m, class_\u001b[39m=\u001b[39m\u001b[39m\"\u001b[39m\u001b[39mw-100\u001b[39m\u001b[39m\"\u001b[39m)\n",
      "\u001b[0;31mAttributeError\u001b[0m: 'NoneType' object has no attribute 'find_all'"
     ]
    }
   ],
   "source": [
    "job_elements = results.find_all(\"div\", class_=\"card-list\")\n",
    "for job_element in job_elements:\n",
    "    # title_element = job_element.find(\"h2\", class_=\"title\")\n",
    "    company_element = job_element.find(\"h3\", class_=\"w-100\")\n",
    "    # location_element = job_element.find(\"p\", class_=\"location\")\n",
    "    # print(title_element.text.strip())\n",
    "    print(company_element.text.strip())\n",
    "    # print(location_element.text.strip())\n",
    "    print()"
   ]
  }
 ],
 "metadata": {
  "kernelspec": {
   "display_name": "Python 3",
   "language": "python",
   "name": "python3"
  },
  "language_info": {
   "codemirror_mode": {
    "name": "ipython",
    "version": 3
   },
   "file_extension": ".py",
   "mimetype": "text/x-python",
   "name": "python",
   "nbconvert_exporter": "python",
   "pygments_lexer": "ipython3",
   "version": "3.10.8"
  },
  "orig_nbformat": 4,
  "vscode": {
   "interpreter": {
    "hash": "aee8b7b246df8f9039afb4144a1f6fd8d2ca17a180786b69acc140d282b71a49"
   }
  }
 },
 "nbformat": 4,
 "nbformat_minor": 2
}
