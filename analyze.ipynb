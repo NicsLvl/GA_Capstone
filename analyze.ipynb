{
 "cells": [
  {
   "cell_type": "code",
   "execution_count": 182,
   "metadata": {},
   "outputs": [
    {
     "name": "stderr",
     "output_type": "stream",
     "text": [
      "[nltk_data] Downloading package punkt to /Users/nick/nltk_data...\n",
      "[nltk_data]   Package punkt is already up-to-date!\n"
     ]
    }
   ],
   "source": [
    "import pandas as pd\n",
    "import seaborn as sns\n",
    "import matplotlib.pyplot as plt\n",
    "import re\n",
    "\n",
    "import nltk\n",
    "from collections import Counter\n",
    "import ssl\n",
    "try:\n",
    "    _create_unverified_https_context = ssl._create_unverified_context\n",
    "except AttributeError:\n",
    "    pass\n",
    "else:\n",
    "    ssl._create_default_https_context = _create_unverified_https_context    \n",
    "nltk.download('punkt')\n",
    "\n",
    "from datetime import datetime\n",
    "from datetime import timedelta\n",
    "\n",
    "pd.set_option('display.max_colwidth', 800)\n",
    "pd.set_option('display.max_rows', 10)"
   ]
  },
  {
   "cell_type": "code",
   "execution_count": 148,
   "metadata": {},
   "outputs": [],
   "source": [
    "# import employees_complete.xlsx to dataframe\n",
    "df = pd.read_excel('employees_complete.xlsx')"
   ]
  },
  {
   "cell_type": "code",
   "execution_count": 149,
   "metadata": {},
   "outputs": [
    {
     "data": {
      "text/plain": [
       "company        0\n",
       "job_title      0\n",
       "              ..\n",
       "posted_date    0\n",
       "expiry_date    0\n",
       "Length: 14, dtype: int64"
      ]
     },
     "execution_count": 149,
     "metadata": {},
     "output_type": "execute_result"
    }
   ],
   "source": [
    "# find out how many values are missing for each field\n",
    "df.eq(\" \").sum()"
   ]
  },
  {
   "cell_type": "code",
   "execution_count": 150,
   "metadata": {},
   "outputs": [
    {
     "name": "stdout",
     "output_type": "stream",
     "text": [
      "2\n"
     ]
    }
   ],
   "source": [
    "# Check for duplicates in df\n",
    "print(df.duplicated().sum())\n",
    "\n",
    "# Remove duplicates in df\n",
    "df.drop_duplicates(inplace=True)"
   ]
  },
  {
   "cell_type": "code",
   "execution_count": 151,
   "metadata": {},
   "outputs": [
    {
     "data": {
      "text/html": [
       "<div>\n",
       "<style scoped>\n",
       "    .dataframe tbody tr th:only-of-type {\n",
       "        vertical-align: middle;\n",
       "    }\n",
       "\n",
       "    .dataframe tbody tr th {\n",
       "        vertical-align: top;\n",
       "    }\n",
       "\n",
       "    .dataframe thead th {\n",
       "        text-align: right;\n",
       "    }\n",
       "</style>\n",
       "<table border=\"1\" class=\"dataframe\">\n",
       "  <thead>\n",
       "    <tr style=\"text-align: right;\">\n",
       "      <th></th>\n",
       "      <th>company</th>\n",
       "      <th>job_title</th>\n",
       "      <th>address</th>\n",
       "      <th>employment_type</th>\n",
       "      <th>seniority</th>\n",
       "      <th>min_experience</th>\n",
       "      <th>job_categories</th>\n",
       "      <th>salary_type</th>\n",
       "      <th>salary_range</th>\n",
       "      <th>job_description</th>\n",
       "      <th>job_skills</th>\n",
       "      <th>applicants</th>\n",
       "      <th>posted_date</th>\n",
       "      <th>expiry_date</th>\n",
       "    </tr>\n",
       "  </thead>\n",
       "  <tbody>\n",
       "    <tr>\n",
       "      <th>count</th>\n",
       "      <td>850</td>\n",
       "      <td>850</td>\n",
       "      <td>850</td>\n",
       "      <td>850</td>\n",
       "      <td>850</td>\n",
       "      <td>850</td>\n",
       "      <td>850</td>\n",
       "      <td>850</td>\n",
       "      <td>850</td>\n",
       "      <td>850</td>\n",
       "      <td>850</td>\n",
       "      <td>850</td>\n",
       "      <td>850</td>\n",
       "      <td>850</td>\n",
       "    </tr>\n",
       "    <tr>\n",
       "      <th>unique</th>\n",
       "      <td>393</td>\n",
       "      <td>651</td>\n",
       "      <td>239</td>\n",
       "      <td>21</td>\n",
       "      <td>9</td>\n",
       "      <td>13</td>\n",
       "      <td>146</td>\n",
       "      <td>1</td>\n",
       "      <td>320</td>\n",
       "      <td>784</td>\n",
       "      <td>761</td>\n",
       "      <td>96</td>\n",
       "      <td>30</td>\n",
       "      <td>31</td>\n",
       "    </tr>\n",
       "    <tr>\n",
       "      <th>top</th>\n",
       "      <td>THE SUPREME HR ADVISORY PTE. LTD.</td>\n",
       "      <td>Data Engineer</td>\n",
       "      <td></td>\n",
       "      <td>Full Time</td>\n",
       "      <td>Professional</td>\n",
       "      <td>3 years exp</td>\n",
       "      <td>Information Technology</td>\n",
       "      <td>Monthly</td>\n",
       "      <td>$7,000to$10,000</td>\n",
       "      <td>HR\\nJob description:\\n\\nSupporting the recruitment administrative duties such as creating and updating job postings on job boards, career page and other media, screening candidates and interview coordination.\\nTraining and course arrangement\\nAssist the manager in sorting, tabulating, and evaluating data.\\nOffice tasks including printing, booking, and other tasks vary based on the work and the WFH setting.\\n\\n\\nWithout prior experience.\\nFlexible hours or office hours.\\ngood experience for learning.\\nHigh JOB PROGRESSION IS AVAILABLE!\\nTalented individuals WANTED!!</td>\n",
       "      <td>['Team Worker', 'Headhunting', 'Microsoft Office', 'Microsoft Excel', 'Financial Transactions', 'Administration', 'Payroll', 'Accounting', 'Financial Statements', 'Bookkeeping', 'Administrative Support', 'Resource Management', 'Human Resources', 'Microsoft Word', 'Screening']</td>\n",
       "      <td>1 application</td>\n",
       "      <td>Posted 16 Feb 2023</td>\n",
       "      <td>Closing on 10 Mar 2023</td>\n",
       "    </tr>\n",
       "    <tr>\n",
       "      <th>freq</th>\n",
       "      <td>37</td>\n",
       "      <td>42</td>\n",
       "      <td>252</td>\n",
       "      <td>237</td>\n",
       "      <td>214</td>\n",
       "      <td>162</td>\n",
       "      <td>323</td>\n",
       "      <td>850</td>\n",
       "      <td>25</td>\n",
       "      <td>14</td>\n",
       "      <td>14</td>\n",
       "      <td>69</td>\n",
       "      <td>61</td>\n",
       "      <td>54</td>\n",
       "    </tr>\n",
       "  </tbody>\n",
       "</table>\n",
       "</div>"
      ],
      "text/plain": [
       "                                  company      job_title address  \\\n",
       "count                                 850            850     850   \n",
       "unique                                393            651     239   \n",
       "top     THE SUPREME HR ADVISORY PTE. LTD.  Data Engineer           \n",
       "freq                                   37             42     252   \n",
       "\n",
       "       employment_type     seniority min_experience          job_categories  \\\n",
       "count              850           850            850                     850   \n",
       "unique              21             9             13                     146   \n",
       "top          Full Time  Professional    3 years exp  Information Technology   \n",
       "freq               237           214            162                     323   \n",
       "\n",
       "       salary_type     salary_range  \\\n",
       "count          850              850   \n",
       "unique           1              320   \n",
       "top        Monthly  $7,000to$10,000   \n",
       "freq           850               25   \n",
       "\n",
       "                                                                                                                                                                                                                                                                                                                                                                                                                                                                                                                                                                                    job_description  \\\n",
       "count                                                                                                                                                                                                                                                                                                                                                                                                                                                                                                                                                                                           850   \n",
       "unique                                                                                                                                                                                                                                                                                                                                                                                                                                                                                                                                                                                          784   \n",
       "top     HR\\nJob description:\\n\\nSupporting the recruitment administrative duties such as creating and updating job postings on job boards, career page and other media, screening candidates and interview coordination.\\nTraining and course arrangement\\nAssist the manager in sorting, tabulating, and evaluating data.\\nOffice tasks including printing, booking, and other tasks vary based on the work and the WFH setting.\\n\\n\\nWithout prior experience.\\nFlexible hours or office hours.\\ngood experience for learning.\\nHigh JOB PROGRESSION IS AVAILABLE!\\nTalented individuals WANTED!!   \n",
       "freq                                                                                                                                                                                                                                                                                                                                                                                                                                                                                                                                                                                             14   \n",
       "\n",
       "                                                                                                                                                                                                                                                                                  job_skills  \\\n",
       "count                                                                                                                                                                                                                                                                                    850   \n",
       "unique                                                                                                                                                                                                                                                                                   761   \n",
       "top     ['Team Worker', 'Headhunting', 'Microsoft Office', 'Microsoft Excel', 'Financial Transactions', 'Administration', 'Payroll', 'Accounting', 'Financial Statements', 'Bookkeeping', 'Administrative Support', 'Resource Management', 'Human Resources', 'Microsoft Word', 'Screening']   \n",
       "freq                                                                                                                                                                                                                                                                                      14   \n",
       "\n",
       "           applicants         posted_date             expiry_date  \n",
       "count             850                 850                     850  \n",
       "unique             96                  30                      31  \n",
       "top     1 application  Posted 16 Feb 2023  Closing on 10 Mar 2023  \n",
       "freq               69                  61                      54  "
      ]
     },
     "execution_count": 151,
     "metadata": {},
     "output_type": "execute_result"
    }
   ],
   "source": [
    "df.describe()"
   ]
  },
  {
   "attachments": {},
   "cell_type": "markdown",
   "metadata": {},
   "source": [
    "# Heatmap"
   ]
  },
  {
   "cell_type": "code",
   "execution_count": 152,
   "metadata": {},
   "outputs": [],
   "source": [
    "# # create a heatmap to show the count of job_title_cln and employment_type_cln\n",
    "# # create a pivot table with counts\n",
    "# pivot_table = df.pivot_table(index='min_experience', columns='job_title_cln', aggfunc='size')\n",
    "# pivot_table = pivot_table.sort_index()\n",
    "\n",
    "# # create a heatmap using seaborn\n",
    "# sns.heatmap(pivot_table, annot=True, cmap='Blues')\n",
    "\n",
    "# # show the plot\n",
    "# plt.show()"
   ]
  },
  {
   "attachments": {},
   "cell_type": "markdown",
   "metadata": {},
   "source": [
    "# job_title"
   ]
  },
  {
   "cell_type": "code",
   "execution_count": 153,
   "metadata": {},
   "outputs": [
    {
     "name": "stdout",
     "output_type": "stream",
     "text": [
      "data engineer     312\n",
      "others            281\n",
      "data analyst      152\n",
      "data scientist    105\n",
      "Name: job_title_cln, dtype: int64\n"
     ]
    }
   ],
   "source": [
    "#create a new column in df and name it 'job_title_cln'\n",
    "df['job_title_cln'] = ''\n",
    "\n",
    "#if job_title contains \"data analyst\", insert \"data analyst\" into job_title_categories etc.\n",
    "string = \"data anal\"\n",
    "df.loc[df['job_title'].str.contains(string,case=False), 'job_title_cln'] = 'data analyst'\n",
    "# print the number of data analyst jobs\n",
    "\n",
    "df.loc[df['job_title'].str.contains('data anla',case=False), 'job_title_cln'] = 'data analyst'\n",
    "df.loc[df['job_title'].str.contains('data scien',case=False), 'job_title_cln'] = 'data scientist'\n",
    "df.loc[df['job_title'].str.contains('data model',case=False), 'job_title_cln'] = 'data scientist'\n",
    "df.loc[df['job_title'].str.contains('machine learning',case=False), 'job_title_cln'] = 'data scientist'\n",
    "df.loc[df['job_title'].str.contains('ML',case=False), 'job_title_cln'] = 'data scientist'\n",
    "df.loc[df['job_title'].str.contains('AI',case=False), 'job_title_cln'] = 'data scientist'\n",
    "df.loc[df['job_title'].str.contains('computer vision',case=False), 'job_title_cln'] = 'data scientist'\n",
    "df.loc[df['job_title'].str.contains('big data',case=False), 'job_title_cln'] = 'data engineer'\n",
    "df.loc[df['job_title'].str.contains('database',case=False), 'job_title_cln'] = 'data engineer'\n",
    "df.loc[df['job_title'].str.contains('data engineer',case=False), 'job_title_cln'] = 'data engineer'\n",
    "df.loc[df['job_title'].str.contains('data cent',case=False), 'job_title_cln'] = 'data engineer'\n",
    "df.loc[df['job_title'].str.contains('data product',case=False), 'job_title_cln'] = 'data engineer'\n",
    "df.loc[df['job_title'].str.contains('tech lead',case=False), 'job_title_cln'] = 'data engineer'\n",
    "df.loc[df['job_title'].str.contains('data platform',case=False), 'job_title_cln'] = 'data engineer'\n",
    "df.loc[df['job_title'].str.contains('data mgt',case=False), 'job_title_cln'] = 'data engineer'\n",
    "df.loc[df['job_title'].str.contains('data management',case=False), 'job_title_cln'] = 'data engineer'\n",
    "df.loc[df['job_title'].str.contains('data ops',case=False), 'job_title_cln'] = 'data engineer'\n",
    "df.loc[df['job_title'].str.contains('data operations',case=False), 'job_title_cln'] = 'data engineer'\n",
    "df.loc[df['job_title'].str.contains('data architect',case=False), 'job_title_cln'] = 'data engineer'\n",
    "\n",
    "# for certain jobs we know that they should belong in others\n",
    "df.loc[df['job_title'].str.contains('software engineer',case=False), 'job_title_cln'] = 'others'\n",
    "df.loc[df['job_title'].str.contains('data migration',case=False), 'job_title_cln'] = 'others'\n",
    "df.loc[df['job_title'].str.contains('data entry',case=False), 'job_title_cln'] = 'others'\n",
    "df.loc[df['job_title'].str.contains('data processing',case=False), 'job_title_cln'] = 'others'\n",
    "df.loc[df['job_title'].str.contains('project manager',case=False), 'job_title_cln'] = 'others'\n",
    "df.loc[df['job_title'].str.contains('business analyst',case=False), 'job_title_cln'] = 'others'\n",
    "df.loc[df['job_title'].str.contains('delivery manager',case=False), 'job_title_cln'] = 'others'\n",
    "df.loc[df['job_title'].str.contains('data protection',case=False), 'job_title_cln'] = 'others'\n",
    "df.loc[df['job_title'].str.contains('data governance',case=False), 'job_title_cln'] = 'others'\n",
    "\n",
    "# if job_title_cln is empty, insert \"others\" into job_title_cln\n",
    "df.loc[df['job_title_cln'] == '', 'job_title_cln'] = 'others'\n",
    "\n",
    "# provide a count of the number of data analyst jobs\n",
    "print(df['job_title_cln'].value_counts())"
   ]
  },
  {
   "attachments": {},
   "cell_type": "markdown",
   "metadata": {},
   "source": [
    "- We try to use bi-grams to get an overview of the job titles available\n",
    "- We will try to segment the data jobs scraped into 4 categories: Data Analyst, Data Scientist, Data Engineer and Others"
   ]
  },
  {
   "cell_type": "code",
   "execution_count": 154,
   "metadata": {},
   "outputs": [
    {
     "name": "stdout",
     "output_type": "stream",
     "text": [
      "[]\n"
     ]
    }
   ],
   "source": [
    "\n",
    "# Use bigrams to drill down and sort the job titles\n",
    "\n",
    "# if job_list_category is empty, filter it and copy it to a list\n",
    "sentences = df[df['job_title'].eq('')].job_title.tolist()\n",
    "\n",
    "# Tokenize the sentences into words\n",
    "words = [word.lower() for sent in sentences for word in nltk.word_tokenize(sent)]\n",
    "\n",
    "# Create a list of bigrams\n",
    "bigrams = nltk.ngrams(words, 2)\n",
    "\n",
    "# Filter bigrams to only include those containing the word \"data\"\n",
    "data_bigrams = [bigram for bigram in bigrams if 'data' in bigram]\n",
    "\n",
    "# Count the frequency of each bigram\n",
    "bigram_counts = Counter(data_bigrams)\n",
    "\n",
    "# Sort the list of bigrams by frequency in descending order\n",
    "sorted_bigrams = sorted(bigram_counts.items(), key=lambda x: x[1], reverse=True)\n",
    "\n",
    "# Print the 10 most popular bigrams\n",
    "print(sorted_bigrams[:20])\n"
   ]
  },
  {
   "cell_type": "code",
   "execution_count": 155,
   "metadata": {},
   "outputs": [
    {
     "name": "stdout",
     "output_type": "stream",
     "text": [
      "3\n",
      "660    Technical Lead (Data Platform & ETL - Microsoft Database)\n",
      "714                        Data Modeling SQL Database (Contract)\n",
      "778              Tech Lead (Distributed Database), Data Platform\n",
      "Name: job_title, dtype: object\n"
     ]
    },
    {
     "data": {
      "text/plain": [
       "660    The candidate is responsible to design, implement and maintain ETL solutions and data models in the data platform, he/she will manage vendors to develop the ETL packages and transformation scripts, review the codes, scripts and test results.\\n\\nPerform impact analysis for upstream and downstream changes that affect the systems\\nDesign, develop and implement high quality ETL solutions, transformations and reports using Microsoft SQL Server tools\\nDeliver project or enhancement requests, create/update SDLC documents including functional and non-functional specifications, technical design documents, test plan, test cases, release procedures, system operational documents, user manuals, etc\\nManage vendors on daily development works, review and signoff results delivered by vendors by follow...\n",
       "714                                             Job Description & Requirements\\nContract position: 12 months contract\\nLocated in Bayfront Ave/Harbourfront Centre\\n\\nJob Description:\\nBusiness data analyst will assist to build and maintain end to end  datamart solution for the data platform initiative to address business  requirements. This role will require usage various tools such as  Microsoft SQL Server data tools, Windows batch scripting, Powershell,  APIs, Structured Query Language (SQL) for development, automation and  maintenance of database solution in gaming and hospitality management  domain. They will also work with other development teams for validation  of the data.\\n. Experience with financial analysis, trend analysis, with background in Hospitality and/or Gaming would\\nbe a plus.\n",
       "778    About TikTok\\nTikTok is the leading destination for short-form mobile video. Our mission is to inspire creativity and bring joy. TikTok has global offices including Los Angeles, New York, London, Paris, Berlin, Dubai, Singapore, Jakarta, Seoul, and Tokyo.\\n\\nWhy Join Us\\nAt TikTok, our people are humble, intelligent, compassionate and creative. We create to inspire - for you, for us, and for more than 1 billion users on our platform. We lead with curiosity and aim for the highest, never shying away from taking calculated risks and embracing ambiguity as it comes. Here, the opportunities are limitless for those who dare to pursue bold ideas that exist just beyond the boundary of possibility. Join us and make impact happen with a career at TikTok.\\n\\nAbout the team\\nTikTok and affiliates...\n",
       "Name: job_description, dtype: object"
      ]
     },
     "execution_count": 155,
     "metadata": {},
     "output_type": "execute_result"
    }
   ],
   "source": [
    "# show full output of job_description that job_title contains \"selected_string\"\n",
    "selected_string=\"database\"\n",
    "print(len(df[df['job_title'].str.contains(selected_string, case=False)].job_description))\n",
    "print(df[df['job_title'].str.contains(selected_string, case=False)].job_title)\n",
    "df[df['job_title'].str.contains(selected_string, case=False)].job_description"
   ]
  },
  {
   "attachments": {},
   "cell_type": "markdown",
   "metadata": {},
   "source": [
    "# employment_type\n"
   ]
  },
  {
   "cell_type": "code",
   "execution_count": 156,
   "metadata": {},
   "outputs": [
    {
     "data": {
      "text/plain": [
       "Full Time                                                             237\n",
       "Permanent, Full Time                                                  204\n",
       "                                                                     ... \n",
       "Part Time, Full Time                                                    1\n",
       "Flexi-work, Full Time, Internship/Attachment, Part Time, Permanent      1\n",
       "Name: employment_type, Length: 21, dtype: int64"
      ]
     },
     "execution_count": 156,
     "metadata": {},
     "output_type": "execute_result"
    }
   ],
   "source": [
    "df.employment_type.value_counts()"
   ]
  },
  {
   "cell_type": "code",
   "execution_count": 157,
   "metadata": {},
   "outputs": [
    {
     "name": "stdout",
     "output_type": "stream",
     "text": [
      "full time    842\n",
      "part time      8\n",
      "Name: time_commitment, dtype: int64\n"
     ]
    }
   ],
   "source": [
    "# we can categorise the time commitment into full time, part time\n",
    "\n",
    "\n",
    "# if full time employment is available we will assume that it is full time employment\n",
    "\n",
    "# create a new column called time_commitment and assign values\n",
    "df['time_commitment'] = df['employment_type'].apply(lambda x: 'part time' if 'part time' in x.lower() else 'full time')\n",
    "\n",
    "print(df.time_commitment.value_counts())\n",
    "\n",
    "# Since there are only 8 part timers we can drop this column\n",
    "df.drop('time_commitment', axis=1, inplace=True)"
   ]
  },
  {
   "cell_type": "code",
   "execution_count": 158,
   "metadata": {},
   "outputs": [
    {
     "data": {
      "text/plain": [
       "permanent     639\n",
       "contract      204\n",
       "internship      7\n",
       "Name: employment_type_cln, dtype: int64"
      ]
     },
     "execution_count": 158,
     "metadata": {},
     "output_type": "execute_result"
    }
   ],
   "source": [
    "# we can also categorise the contract type into permanent, contract, intership\n",
    "\n",
    "# first we segregate out all the intership job listings\n",
    "# if the remaining data contains permanent we will assume that it is permanent\n",
    "# if the data contains only full time or part time we will assume that it is permanent\n",
    "# everything else will be considered contract\n",
    "\n",
    "df['employment_type_cln'] = df['employment_type'].apply(lambda x: \n",
    "                                         'internship' if 'intern' in x.lower() \n",
    "                                         else ('permanent' if ('permanent' in x.lower()) or (x.lower()=='full time') or (x.lower()=='part time')\n",
    "                                         or (x.lower()=='part time, full time')\n",
    "                                               else 'contract'))\n",
    "\n",
    "\n",
    "df.employment_type_cln.value_counts()"
   ]
  },
  {
   "attachments": {},
   "cell_type": "markdown",
   "metadata": {},
   "source": [
    "# seniority"
   ]
  },
  {
   "cell_type": "code",
   "execution_count": 159,
   "metadata": {},
   "outputs": [
    {
     "data": {
      "text/plain": [
       "Professional         214\n",
       "Executive            160\n",
       "                    ... \n",
       "Middle Management     26\n",
       "Senior Management     23\n",
       "Name: seniority, Length: 9, dtype: int64"
      ]
     },
     "execution_count": 159,
     "metadata": {},
     "output_type": "execute_result"
    }
   ],
   "source": [
    "df.seniority.value_counts()"
   ]
  },
  {
   "attachments": {},
   "cell_type": "markdown",
   "metadata": {},
   "source": [
    "# min_experience"
   ]
  },
  {
   "cell_type": "code",
   "execution_count": 160,
   "metadata": {},
   "outputs": [
    {
     "data": {
      "text/plain": [
       "3 years exp     162\n",
       "1 year exp      146\n",
       "               ... \n",
       "12 years exp      5\n",
       "9 years exp       1\n",
       "Name: min_experience, Length: 13, dtype: int64"
      ]
     },
     "execution_count": 160,
     "metadata": {},
     "output_type": "execute_result"
    }
   ],
   "source": [
    "df.min_experience.value_counts()"
   ]
  },
  {
   "cell_type": "code",
   "execution_count": 161,
   "metadata": {},
   "outputs": [
    {
     "data": {
      "text/plain": [
       "3     162\n",
       "1     146\n",
       "     ... \n",
       "12      5\n",
       "9       1\n",
       "Name: min_experience, Length: 12, dtype: int64"
      ]
     },
     "execution_count": 161,
     "metadata": {},
     "output_type": "execute_result"
    }
   ],
   "source": [
    "# use regex to just extract the number from the min_experience column\n",
    "df['min_experience'] = df['min_experience'].str.extract('(\\d+)')\n",
    "df.min_experience.value_counts()"
   ]
  },
  {
   "cell_type": "code",
   "execution_count": 162,
   "metadata": {},
   "outputs": [],
   "source": [
    "# fill in NaN values with 0\n",
    "df['min_experience'] = df['min_experience'].fillna(0)\n",
    "# convert min_experience to int\n",
    "df['min_experience'] = df['min_experience'].astype(int)"
   ]
  },
  {
   "attachments": {},
   "cell_type": "markdown",
   "metadata": {},
   "source": [
    "# job_categories"
   ]
  },
  {
   "cell_type": "code",
   "execution_count": 163,
   "metadata": {},
   "outputs": [
    {
     "data": {
      "text/plain": [
       "Information Technology                                                           323\n",
       "Engineering                                                                       56\n",
       "                                                                                ... \n",
       "Admin / Secretarial, Healthcare / Pharmaceutical, Sciences / Laboratory / R&D      1\n",
       "Accounting / Auditing / Taxation, Admin / Secretarial                              1\n",
       "Name: job_categories, Length: 146, dtype: int64"
      ]
     },
     "execution_count": 163,
     "metadata": {},
     "output_type": "execute_result"
    }
   ],
   "source": [
    "df.job_categories.value_counts()"
   ]
  },
  {
   "cell_type": "code",
   "execution_count": 164,
   "metadata": {},
   "outputs": [],
   "source": [
    "# create new columns for each category\n",
    "category_names = set(category for row in df['job_categories'] for category in re.split('[,/]', row))\n",
    "category_columns = ['Industry_' + name.strip() for name in category_names]\n",
    "df[category_columns] = pd.DataFrame([[0] * len(category_columns)], index=df.index)\n",
    "\n",
    "# set new columns to 1 where appropriate\n",
    "df[category_columns] = df.apply(lambda row: pd.Series([1 if name.strip() in re.split('[,/]', row['job_categories']) else 0 for name in category_names]), axis=1)\n",
    "\n",
    "# # drop original column\n",
    "# df = df.drop('job_categories', axis=1)"
   ]
  },
  {
   "attachments": {},
   "cell_type": "markdown",
   "metadata": {},
   "source": [
    "# salary_type"
   ]
  },
  {
   "cell_type": "code",
   "execution_count": 165,
   "metadata": {},
   "outputs": [
    {
     "data": {
      "text/plain": [
       "Monthly    850\n",
       "Name: salary_type, dtype: int64"
      ]
     },
     "execution_count": 165,
     "metadata": {},
     "output_type": "execute_result"
    }
   ],
   "source": [
    "df.salary_type.value_counts()"
   ]
  },
  {
   "attachments": {},
   "cell_type": "markdown",
   "metadata": {},
   "source": [
    "# salary_range"
   ]
  },
  {
   "cell_type": "code",
   "execution_count": 166,
   "metadata": {},
   "outputs": [
    {
     "data": {
      "text/plain": [
       "$7,000to$10,000     25\n",
       "$2,000to$6,000      16\n",
       "                    ..\n",
       "$12,000to$16,000     1\n",
       "$3,000to$4,200       1\n",
       "Name: salary_range, Length: 320, dtype: int64"
      ]
     },
     "execution_count": 166,
     "metadata": {},
     "output_type": "execute_result"
    }
   ],
   "source": [
    "df.salary_range.value_counts()"
   ]
  },
  {
   "cell_type": "code",
   "execution_count": 167,
   "metadata": {},
   "outputs": [
    {
     "data": {
      "text/plain": [
       "1        4\n",
       "9        1\n",
       "12       2\n",
       "400      1\n",
       "750      1\n",
       "        ..\n",
       "14600    1\n",
       "15000    4\n",
       "16000    2\n",
       "20000    3\n",
       "20800    1\n",
       "Name: salary_min, Length: 87, dtype: int64"
      ]
     },
     "execution_count": 167,
     "metadata": {},
     "output_type": "execute_result"
    },
    {
     "data": {
      "image/png": "[encoded data removed]",
      "text/plain": [
       "<Figure size 640x480 with 1 Axes>"
      ]
     },
     "metadata": {},
     "output_type": "display_data"
    }
   ],
   "source": [
    "# use regex to extract the 7,000 from $7,000to$10,000\n",
    "df['salary_min'] = df['salary_range'].str.extract(r'\\$(\\d{1,3}(,\\d{3})?)to\\$(\\d{1,3}(,\\d{3})?)', expand=False)[0]\n",
    "\n",
    "# replace commas with nothing\n",
    "df['salary_min'] = df['salary_min'].str.replace(',', '')\n",
    "\n",
    "# convert salary_min to int\n",
    "df['salary_min'] = df['salary_min'].astype(int)\n",
    "\n",
    "# plot histogram of salary_min\n",
    "df['salary_min'].hist()\n",
    "\n",
    "pd.set_option('display.max_rows', 10)\n",
    "df.salary_min.value_counts()\n",
    "df.salary_min.value_counts().sort_index()"
   ]
  },
  {
   "cell_type": "code",
   "execution_count": 168,
   "metadata": {},
   "outputs": [],
   "source": [
    "# investigate the job listings with salary_min < 1000\n",
    "df[df['salary_min'] < 1000]\n",
    "\n",
    "# most of the job listings are actually temp listings with a few that are refusing to put the salary range\n",
    "# dropping these rows will be inconsequential\n",
    "df = df[df['salary_min'] >= 1000]"
   ]
  },
  {
   "cell_type": "code",
   "execution_count": 169,
   "metadata": {},
   "outputs": [
    {
     "data": {
      "text/plain": [
       "1030     2\n",
       "1200     1\n",
       "1500     1\n",
       "1600     3\n",
       "1700     1\n",
       "        ..\n",
       "26000    1\n",
       "28000    1\n",
       "30000    1\n",
       "39000    1\n",
       "45000    1\n",
       "Name: salary_max, Length: 104, dtype: int64"
      ]
     },
     "execution_count": 169,
     "metadata": {},
     "output_type": "execute_result"
    },
    {
     "data": {
      "image/png": "[encoded data removed]",
      "text/plain": [
       "<Figure size 640x480 with 1 Axes>"
      ]
     },
     "metadata": {},
     "output_type": "display_data"
    }
   ],
   "source": [
    "# use regex to extract the 7,000 from $7,000to$10,000\n",
    "df['salary_max'] = df['salary_range'].str.extract(r'to\\$(\\d{1,3}(?:,\\d{3})?)', expand=True)[0]\n",
    "\n",
    "# replace commas with nothing\n",
    "df['salary_max'] = df['salary_max'].str.replace(',', '')\n",
    "\n",
    "# convert salary_max to int\n",
    "df['salary_max'] = df['salary_max'].astype(int)\n",
    "\n",
    "# plot histogram of salary_max\n",
    "df['salary_max'].hist()\n",
    "\n",
    "pd.set_option('display.max_rows', 10)\n",
    "df.salary_max.value_counts().sort_index()"
   ]
  },
  {
   "attachments": {},
   "cell_type": "markdown",
   "metadata": {},
   "source": [
    "# applicants"
   ]
  },
  {
   "cell_type": "code",
   "execution_count": 170,
   "metadata": {},
   "outputs": [
    {
     "data": {
      "text/plain": [
       "1 application       68\n",
       "2 applications      65\n",
       "0 application       62\n",
       "3 applications      57\n",
       "4 applications      50\n",
       "                    ..\n",
       "50 applications      1\n",
       "93 applications      1\n",
       "99 applications      1\n",
       "128 applications     1\n",
       "59 applications      1\n",
       "Name: applicants, Length: 95, dtype: int64"
      ]
     },
     "execution_count": 170,
     "metadata": {},
     "output_type": "execute_result"
    }
   ],
   "source": [
    "df.applicants.value_counts()"
   ]
  },
  {
   "cell_type": "code",
   "execution_count": 171,
   "metadata": {},
   "outputs": [
    {
     "data": {
      "text/plain": [
       "0      62\n",
       "1      68\n",
       "2      65\n",
       "3      57\n",
       "4      50\n",
       "       ..\n",
       "211     1\n",
       "216     1\n",
       "231     1\n",
       "245     2\n",
       "266     1\n",
       "Name: applicants, Length: 95, dtype: int64"
      ]
     },
     "execution_count": 171,
     "metadata": {},
     "output_type": "execute_result"
    }
   ],
   "source": [
    "# extract the digit value from applicants\n",
    "df['applicants'] = df['applicants'].str.extract('(\\d+)')\n",
    "# convert to int\n",
    "df['applicants'] = df['applicants'].astype(int)\n",
    "df.applicants.value_counts().sort_index()"
   ]
  },
  {
   "cell_type": "markdown",
   "metadata": {},
   "source": [
    "# posted_date\n"
   ]
  },
  {
   "cell_type": "code",
   "execution_count": 172,
   "metadata": {},
   "outputs": [
    {
     "data": {
      "text/plain": [
       "Posted 16 Feb 2023    58\n",
       "Posted 09 Feb 2023    57\n",
       "Posted 08 Feb 2023    54\n",
       "Posted 10 Feb 2023    49\n",
       "Posted 07 Feb 2023    45\n",
       "                      ..\n",
       "Posted 12 Feb 2023     5\n",
       "Posted 28 Jan 2023     5\n",
       "Posted 18 Feb 2023     4\n",
       "Posted 23 Feb 2023     2\n",
       "Posted 29 Jan 2023     1\n",
       "Name: posted_date, Length: 30, dtype: int64"
      ]
     },
     "execution_count": 172,
     "metadata": {},
     "output_type": "execute_result"
    }
   ],
   "source": [
    "df.posted_date.value_counts()"
   ]
  },
  {
   "cell_type": "code",
   "execution_count": 173,
   "metadata": {},
   "outputs": [
    {
     "data": {
      "text/plain": [
       "2023-02-16    58\n",
       "2023-02-09    57\n",
       "2023-02-08    54\n",
       "2023-02-10    49\n",
       "2023-02-07    45\n",
       "              ..\n",
       "2023-02-12     5\n",
       "2023-01-28     5\n",
       "2023-02-18     4\n",
       "2023-02-23     2\n",
       "2023-01-29     1\n",
       "Name: posted_date, Length: 30, dtype: int64"
      ]
     },
     "execution_count": 173,
     "metadata": {},
     "output_type": "execute_result"
    }
   ],
   "source": [
    "# # extract date from posted_date\n",
    "# date_format = 'Posted %d %b %Y'\n",
    "\n",
    "# Define function to extract date from string\n",
    "def extract_date(posted_date):\n",
    "    date_obj = datetime.strptime(posted_date[7:], \"%d %b %Y\")\n",
    "    return date_obj\n",
    "\n",
    "# Apply function to each row of the column\n",
    "df['posted_date'] = df['posted_date'].apply(extract_date)\n",
    "\n",
    "df.posted_date.value_counts()\n"
   ]
  },
  {
   "attachments": {},
   "cell_type": "markdown",
   "metadata": {},
   "source": [
    "# expiry_date\n"
   ]
  },
  {
   "cell_type": "code",
   "execution_count": 174,
   "metadata": {},
   "outputs": [
    {
     "data": {
      "text/plain": [
       "2023-03-10    53\n",
       "2023-03-02    50\n",
       "2023-03-11    49\n",
       "2023-03-18    49\n",
       "2023-03-08    47\n",
       "              ..\n",
       "2023-03-14     5\n",
       "2023-03-06     5\n",
       "2023-02-28     5\n",
       "2023-03-20     4\n",
       "2023-03-25     2\n",
       "Name: expiry_date, Length: 31, dtype: int64"
      ]
     },
     "execution_count": 174,
     "metadata": {},
     "output_type": "execute_result"
    }
   ],
   "source": [
    "# extract date from posted_date\n",
    "# date_format = 'Posted %d %b %Y'\n",
    "\n",
    "# Define function to extract date from string\n",
    "def extract_date(expiry_date):\n",
    "    date_obj = datetime.strptime(expiry_date[11:], \"%d %b %Y\")\n",
    "    return date_obj\n",
    "\n",
    "# Apply function to each row of the column\n",
    "df['expiry_date'] = df['expiry_date'].apply(extract_date)\n",
    "\n",
    "df.expiry_date.value_counts()"
   ]
  },
  {
   "cell_type": "code",
   "execution_count": 183,
   "metadata": {},
   "outputs": [
    {
     "data": {
      "text/plain": [
       "30 days     760\n",
       "14 days      48\n",
       "21 days      17\n",
       "-6 days       7\n",
       "10 days       6\n",
       "-13 days      2\n",
       "7 days        1\n",
       "Name: posting_length, dtype: int64"
      ]
     },
     "execution_count": 183,
     "metadata": {},
     "output_type": "execute_result"
    }
   ],
   "source": [
    "# create a new feature called posting_length\n",
    "df['posting_length'] = df['expiry_date'] - df['posted_date']\n",
    "df.posting_length.value_counts()\n",
    "\n",
    "# investigate the job listings with posting_length < 0\n"
   ]
  },
  {
   "cell_type": "code",
   "execution_count": 185,
   "metadata": {},
   "outputs": [],
   "source": [
    "# extract to excel to analyse in tableau\n",
    "df.to_excel('to_tableau.xlsx', index=False)"
   ]
  },
  {
   "attachments": {},
   "cell_type": "markdown",
   "metadata": {},
   "source": [
    "# unfinished"
   ]
  },
  {
   "attachments": {},
   "cell_type": "markdown",
   "metadata": {},
   "source": [
    "# address"
   ]
  },
  {
   "attachments": {},
   "cell_type": "markdown",
   "metadata": {},
   "source": [
    "# company"
   ]
  },
  {
   "cell_type": "code",
   "execution_count": 175,
   "metadata": {},
   "outputs": [],
   "source": [
    "# from fuzzywuzzy import fuzz\n",
    "\n",
    "# # create a function to calculate similarity score\n",
    "# def similarity_score(a, b):\n",
    "#     return fuzz.token_sort_ratio(a, b)\n",
    "\n",
    "# # create a matrix of similarity scores\n",
    "# similarity_matrix = pd.DataFrame([[similarity_score(x, y) for x in df['company']] for y in df['company']], index=df['company'], columns=df['company'])\n",
    "\n",
    "# # plot the heatmap\n",
    "# sns.heatmap(similarity_matrix, cmap='Reds', annot=True, fmt=\".1f\")\n",
    "\n",
    "# # show the plot\n",
    "# plt.show()\n",
    "\n",
    "# # sort the matrix by similarity score\n",
    "# similarity_matrix = similarity_matrix.stack().reset_index()\n",
    "# similarity_matrix.columns = ['Company1', 'Company2', 'SimilarityScore']\n",
    "# similarity_matrix = similarity_matrix[similarity_matrix['Company1'] < similarity_matrix['Company2']]\n",
    "# similarity_matrix = similarity_matrix.sort_values('SimilarityScore', ascending=False)\n",
    "\n",
    "# # print the top 5 most similar pairs of company names\n",
    "# print(similarity_matrix.head())"
   ]
  },
  {
   "cell_type": "markdown",
   "metadata": {},
   "source": [
    "# job description"
   ]
  },
  {
   "cell_type": "markdown",
   "metadata": {},
   "source": [
    "# job skills"
   ]
  }
 ],
 "metadata": {
  "kernelspec": {
   "display_name": "Python 3",
   "language": "python",
   "name": "python3"
  },
  "language_info": {
   "codemirror_mode": {
    "name": "ipython",
    "version": 3
   },
   "file_extension": ".py",
   "mimetype": "text/x-python",
   "name": "python",
   "nbconvert_exporter": "python",
   "pygments_lexer": "ipython3",
   "version": "3.10.8"
  },
  "orig_nbformat": 4,
  "vscode": {
   "interpreter": {
    "hash": "aee8b7b246df8f9039afb4144a1f6fd8d2ca17a180786b69acc140d282b71a49"
   }
  }
 },
 "nbformat": 4,
 "nbformat_minor": 2
}
